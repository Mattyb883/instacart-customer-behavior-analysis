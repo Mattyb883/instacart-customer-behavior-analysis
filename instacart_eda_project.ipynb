{
 "cells": [
  {
   "cell_type": "markdown",
   "id": "8bc8e33b",
   "metadata": {},
   "source": [
    "## Instacart EDA Project \n",
    "\n",
    "In this project, we explore the shopping behavior of Instacart customers by analyzing various aspects of their grocery orders. Using a dataset containing information on products, orders, and customer interactions, we aim to uncover key insights about customer preferences, purchasing patterns, and product popularity. Specifically, we’ll focus on questions such as: what are the most popular products, when do customers shop, and what are the common patterns in reorder behavior? By answering these questions, we hope to understand the dynamics of online grocery shopping and gain actionable insights into how customers interact with their shopping carts and make purchasing decisions."
   ]
  },
  {
   "cell_type": "code",
   "execution_count": 93,
   "id": "fbf1adab",
   "metadata": {},
   "outputs": [],
   "source": [
    "import pandas as pd"
   ]
  },
  {
   "cell_type": "code",
   "execution_count": 94,
   "id": "ad36396d",
   "metadata": {},
   "outputs": [],
   "source": [
    "instacart_orders_cleaned = pd.read_csv('/datasets/instacart_orders.csv', delimiter=';')"
   ]
  },
  {
   "cell_type": "code",
   "execution_count": 95,
   "id": "ad6a1efa",
   "metadata": {},
   "outputs": [],
   "source": [
    "products_cleaned = pd.read_csv('/datasets/products.csv', delimiter=';')"
   ]
  },
  {
   "cell_type": "code",
   "execution_count": 96,
   "id": "d8370c05",
   "metadata": {},
   "outputs": [],
   "source": [
    "order_products_cleaned = pd.read_csv('/datasets/order_products.csv', delimiter=';')"
   ]
  },
  {
   "cell_type": "code",
   "execution_count": 97,
   "id": "b5574190",
   "metadata": {},
   "outputs": [],
   "source": [
    "departments_cleaned = pd.read_csv('/datasets/departments.csv', delimiter=';')"
   ]
  },
  {
   "cell_type": "code",
   "execution_count": 98,
   "id": "4489f007",
   "metadata": {},
   "outputs": [],
   "source": [
    "aisles_cleaned = pd.read_csv('/datasets/aisles.csv', delimiter=';')"
   ]
  },
  {
   "cell_type": "markdown",
   "id": "07357848-dc64-4156-9cc3-01ff4365226d",
   "metadata": {},
   "source": [
    "## Find and remove duplicate values (and describe why you make your choices)"
   ]
  },
  {
   "cell_type": "markdown",
   "id": "f179f0a9",
   "metadata": {},
   "source": [
    "### `orders` data frame"
   ]
  },
  {
   "cell_type": "code",
   "execution_count": 99,
   "id": "b99297a5-405a-463d-8535-9adc3da4ad74",
   "metadata": {},
   "outputs": [
    {
     "name": "stdout",
     "output_type": "stream",
     "text": [
      "Number of duplicated rows: 15\n"
     ]
    }
   ],
   "source": [
    "duplicated_orders = instacart_orders_cleaned[instacart_orders_cleaned.duplicated()] # used dulpicated to check for duplicated orders for instacart_orders_cleaned \n",
    "\n",
    "print(f\"Number of duplicated rows: {len(duplicated_orders)}\") # len to count number of rows\n",
    "\n",
    "# Check for duplicated orders"
   ]
  },
  {
   "cell_type": "code",
   "execution_count": 100,
   "id": "0d44de5d",
   "metadata": {},
   "outputs": [
    {
     "name": "stdout",
     "output_type": "stream",
     "text": [
      "Number of orders placed on Wednesday at 2:00 AM: 121\n"
     ]
    }
   ],
   "source": [
    "wed_2am_orders = instacart_orders_cleaned[(instacart_orders_cleaned['order_dow'] == 3) & (instacart_orders_cleaned['order_hour_of_day'] == 2)] # assuming that 0 is the indicies for Sunday then 3 is the indicies for Wed, but not sure if it is? 24hr time 2am = 2\n",
    "\n",
    "print(f\"Number of orders placed on Wednesday at 2:00 AM: {len(wed_2am_orders)}\") # calculate number of rows\n",
    "\n",
    "# Check for all orders placed Wednesday at 2:00 AM"
   ]
  },
  {
   "cell_type": "code",
   "execution_count": 101,
   "id": "480563c7",
   "metadata": {},
   "outputs": [
    {
     "name": "stdout",
     "output_type": "stream",
     "text": [
      "Number of rows after dropping duplicate orders: 478952\n"
     ]
    }
   ],
   "source": [
    "instacart_orders_cleaned = instacart_orders_cleaned.drop_duplicates() # duplicates dropped and assigned back to variable\n",
    "\n",
    "print(f\"Number of rows after dropping duplicate orders: {len(instacart_orders_cleaned)}\") # calculate number of rows\n",
    "\n",
    "# Remove duplicate orders"
   ]
  },
  {
   "cell_type": "code",
   "execution_count": 102,
   "id": "0b2396a2",
   "metadata": {},
   "outputs": [
    {
     "name": "stdout",
     "output_type": "stream",
     "text": [
      "Number of duplicated rows after removal: 0\n"
     ]
    }
   ],
   "source": [
    "duplicated_orders = instacart_orders_cleaned[instacart_orders_cleaned.duplicated()] # double checking for duplicate values\n",
    "\n",
    "print(f\"Number of duplicated rows after removal: {len(duplicated_orders)}\") # calculate number of rows\n",
    "\n",
    "# Double check for duplicate rows"
   ]
  },
  {
   "cell_type": "code",
   "execution_count": 103,
   "id": "f6113ef1",
   "metadata": {},
   "outputs": [
    {
     "name": "stdout",
     "output_type": "stream",
     "text": [
      "Number of duplicated order IDs: 0\n"
     ]
    }
   ],
   "source": [
    "duplicated_order_ids = instacart_orders_cleaned[instacart_orders_cleaned.duplicated(subset='order_id')] # check for duplicate values\n",
    "\n",
    "print(f\"Number of duplicated order IDs: {len(duplicated_order_ids)}\") # calculate number of rows\n",
    "\n",
    "# Double check for duplicate order IDs only"
   ]
  },
  {
   "cell_type": "markdown",
   "id": "5e8905ae",
   "metadata": {},
   "source": [
    "Type Markdown and LaTeX:  𝛼2"
   ]
  },
  {
   "cell_type": "markdown",
   "id": "45e6bc46",
   "metadata": {},
   "source": [
    "### `products` data frame"
   ]
  },
  {
   "cell_type": "code",
   "execution_count": 104,
   "id": "5f526b5b-8175-46fa-a0fd-441767d50e64",
   "metadata": {},
   "outputs": [
    {
     "name": "stdout",
     "output_type": "stream",
     "text": [
      "Number of fully duplicated rows: 0\n"
     ]
    }
   ],
   "source": [
    "duplicated_products = products_cleaned[products_cleaned.duplicated()] # checking for duplicate values\n",
    "\n",
    "print(f\"Number of fully duplicated rows: {len(duplicated_products)}\") # calculate number of rows\n",
    "\n",
    "# Check for fully duplicate rows"
   ]
  },
  {
   "cell_type": "code",
   "execution_count": 105,
   "id": "88daa4f4",
   "metadata": {},
   "outputs": [
    {
     "name": "stdout",
     "output_type": "stream",
     "text": [
      "Number of duplicated product IDs: 0\n"
     ]
    }
   ],
   "source": [
    "duplicate_product_ids = products_cleaned[products_cleaned.duplicated(subset='product_id')] # checking for duplicate values\n",
    "\n",
    "print(f\"Number of duplicated product IDs: {len(duplicate_product_ids)}\") # calculate number of rows\n",
    "\n",
    "# Check for just duplicate product IDs"
   ]
  },
  {
   "cell_type": "code",
   "execution_count": 106,
   "id": "c773f0bf",
   "metadata": {},
   "outputs": [
    {
     "name": "stdout",
     "output_type": "stream",
     "text": [
      "Number of duplicate product names: 1465\n",
      "\n"
     ]
    },
    {
     "data": {
      "text/html": [
       "<div>\n",
       "<style scoped>\n",
       "    .dataframe tbody tr th:only-of-type {\n",
       "        vertical-align: middle;\n",
       "    }\n",
       "\n",
       "    .dataframe tbody tr th {\n",
       "        vertical-align: top;\n",
       "    }\n",
       "\n",
       "    .dataframe thead th {\n",
       "        text-align: right;\n",
       "    }\n",
       "</style>\n",
       "<table border=\"1\" class=\"dataframe\">\n",
       "  <thead>\n",
       "    <tr style=\"text-align: right;\">\n",
       "      <th></th>\n",
       "      <th>product_id</th>\n",
       "      <th>product_name</th>\n",
       "      <th>aisle_id</th>\n",
       "      <th>department_id</th>\n",
       "    </tr>\n",
       "  </thead>\n",
       "  <tbody>\n",
       "    <tr>\n",
       "      <th>37</th>\n",
       "      <td>38</td>\n",
       "      <td>NaN</td>\n",
       "      <td>100</td>\n",
       "      <td>21</td>\n",
       "    </tr>\n",
       "    <tr>\n",
       "      <th>41</th>\n",
       "      <td>42</td>\n",
       "      <td>biotin 1000 mcg</td>\n",
       "      <td>47</td>\n",
       "      <td>11</td>\n",
       "    </tr>\n",
       "    <tr>\n",
       "      <th>71</th>\n",
       "      <td>72</td>\n",
       "      <td>NaN</td>\n",
       "      <td>100</td>\n",
       "      <td>21</td>\n",
       "    </tr>\n",
       "    <tr>\n",
       "      <th>109</th>\n",
       "      <td>110</td>\n",
       "      <td>NaN</td>\n",
       "      <td>100</td>\n",
       "      <td>21</td>\n",
       "    </tr>\n",
       "    <tr>\n",
       "      <th>185</th>\n",
       "      <td>186</td>\n",
       "      <td>fresh scent dishwasher detergent with dawn</td>\n",
       "      <td>74</td>\n",
       "      <td>17</td>\n",
       "    </tr>\n",
       "  </tbody>\n",
       "</table>\n",
       "</div>"
      ],
      "text/plain": [
       "     product_id                                product_name  aisle_id  \\\n",
       "37           38                                         NaN       100   \n",
       "41           42                             biotin 1000 mcg        47   \n",
       "71           72                                         NaN       100   \n",
       "109         110                                         NaN       100   \n",
       "185         186  fresh scent dishwasher detergent with dawn        74   \n",
       "\n",
       "     department_id  \n",
       "37              21  \n",
       "41              11  \n",
       "71              21  \n",
       "109             21  \n",
       "185             17  "
      ]
     },
     "execution_count": 106,
     "metadata": {},
     "output_type": "execute_result"
    }
   ],
   "source": [
    "products_cleaned['product_name'] = products_cleaned['product_name'].str.lower() #  lowercase version of product names for comparison\n",
    "\n",
    "duplicate_product_names = products_cleaned[products_cleaned['product_name'].duplicated(keep=False)] # Check for duplicate values\n",
    "\n",
    "print(f\"Number of duplicate product names: {len(duplicate_product_names)}\") # calculate number of rows\n",
    "\n",
    "# Check for just duplicate product names (convert names to lowercase to compare better)\n",
    "print()\n",
    "\n",
    "duplicate_product_names.head() # print first few rows to make sure product names are all lower"
   ]
  },
  {
   "cell_type": "code",
   "execution_count": 107,
   "id": "01efd02e",
   "metadata": {},
   "outputs": [
    {
     "name": "stdout",
     "output_type": "stream",
     "text": [
      "Number of duplicate product names that aren't missing: 207\n",
      "\n",
      "      product_id                                product_name  aisle_id  \\\n",
      "41            42                             biotin 1000 mcg        47   \n",
      "185          186  fresh scent dishwasher detergent with dawn        74   \n",
      "515          516                      american cheese slices        21   \n",
      "1538        1539                            cauliflower head        83   \n",
      "1783        1784         nutrition protein mix blueberry nut       117   \n",
      "\n",
      "      department_id  \n",
      "41               11  \n",
      "185              17  \n",
      "515              16  \n",
      "1538              4  \n",
      "1783             19  \n"
     ]
    }
   ],
   "source": [
    "non_missing_duplicate_names = products_cleaned[\n",
    "    products_cleaned['product_name'].notna() & \n",
    "    products_cleaned['product_name'].duplicated(keep=False)\n",
    "] # Check for duplicate product names that aren't missing\n",
    "\n",
    "print(f\"Number of duplicate product names that aren't missing: {len(non_missing_duplicate_names)}\") # print the number of non-missing duplicate product names\n",
    "\n",
    "print()\n",
    "\n",
    "print(non_missing_duplicate_names.head())# Display the first few rows of non-missing duplicate product names to make sure\n",
    "\n",
    "# Check for duplicate product names that aren't missing"
   ]
  },
  {
   "cell_type": "markdown",
   "id": "9da8d293",
   "metadata": {},
   "source": [
    "Type Markdown and LaTeX:  𝛼2"
   ]
  },
  {
   "cell_type": "markdown",
   "id": "274cd06a",
   "metadata": {},
   "source": [
    "### `order_products` data frame"
   ]
  },
  {
   "cell_type": "code",
   "execution_count": 108,
   "id": "52326689-84a8-4b8f-a881-7c68780f62c9",
   "metadata": {},
   "outputs": [
    {
     "name": "stdout",
     "output_type": "stream",
     "text": [
      "Number of fully duplicated rows: 0\n"
     ]
    }
   ],
   "source": [
    "fully_duplicated_rows = order_products_cleaned[order_products_cleaned.duplicated(keep=False)] # checking for dupicate values keep=false will indicate duplicates as TRUE? I think so but not 100% sure?\n",
    "\n",
    "print(f\"Number of fully duplicated rows: {len(fully_duplicated_rows)}\") # calculate number of rows\n",
    "\n",
    "# Check for fullly duplicate rows"
   ]
  },
  {
   "cell_type": "code",
   "execution_count": 109,
   "id": "7b861391",
   "metadata": {},
   "outputs": [
    {
     "name": "stdout",
     "output_type": "stream",
     "text": [
      "Number of duplicate order-product pairs: 0\n"
     ]
    }
   ],
   "source": [
    "duplicate_order_product_pairs = order_products_cleaned[order_products_cleaned.duplicated(subset=['order_id', 'product_id'], keep=False)] # check for duplicate values in subset\n",
    "\n",
    "print(f\"Number of duplicate order-product pairs: {len(duplicate_order_product_pairs)}\") # calculate number of rows\n",
    "\n",
    "# Double check for any other tricky duplicates"
   ]
  },
  {
   "cell_type": "markdown",
   "id": "1e46de76",
   "metadata": {},
   "source": [
    "## Find and remove missing values\n"
   ]
  },
  {
   "cell_type": "markdown",
   "id": "c0aebd78",
   "metadata": {},
   "source": [
    "### `products` data frame"
   ]
  },
  {
   "cell_type": "code",
   "execution_count": 110,
   "id": "e96167bc",
   "metadata": {},
   "outputs": [
    {
     "name": "stdout",
     "output_type": "stream",
     "text": [
      "Are all missing product names associated with aisle ID 100? True\n"
     ]
    }
   ],
   "source": [
    "missing_product_names = products_cleaned[products_cleaned['product_name'].isna()] # look for missing values in product_name\n",
    "\n",
    "\n",
    "aisle_100_missing = missing_product_names['aisle_id'].eq(100).all() # check if missing value has aisle_id 100\n",
    "\n",
    "\n",
    "print(f\"Are all missing product names associated with aisle ID 100? {aisle_100_missing}\") # calculate number of rows\n",
    "\n",
    "# Are all of the missing product names associated with aisle ID 100?\n"
   ]
  },
  {
   "cell_type": "code",
   "execution_count": 111,
   "id": "8fd0a541",
   "metadata": {},
   "outputs": [
    {
     "name": "stdout",
     "output_type": "stream",
     "text": [
      "Are all missing product names associated with department ID 21? True\n"
     ]
    }
   ],
   "source": [
    "department_21_missing = missing_product_names['department_id'].eq(21).all() # check if missing value has department_id 21\n",
    "\n",
    "\n",
    "print(f\"Are all missing product names associated with department ID 21? {department_21_missing}\") # calculate number of rows\n",
    "\n",
    "# Are all of the missing product names associated with department ID 21?\n"
   ]
  },
  {
   "cell_type": "code",
   "execution_count": 112,
   "id": "325c3464",
   "metadata": {},
   "outputs": [
    {
     "name": "stdout",
     "output_type": "stream",
     "text": [
      "Aisle ID 100: missing\n",
      "Department ID 21: missing\n"
     ]
    }
   ],
   "source": [
    "aisle = aisles_cleaned.loc[aisles_cleaned['aisle_id'] == 100, 'aisle'].values\n",
    "department = departments_cleaned.loc[departments_cleaned['department_id'] == 21, 'department'].values\n",
    "# identify the aisle and department names for aisle ID 100 and department ID 21\n",
    "\n",
    "aisle = aisle[0] if len(aisle) > 0 else 'Not Found'\n",
    "department = department[0] if len(department) > 0 else 'Not Found'\n",
    "# assign 'Not Found' if the value is not present\n",
    "\n",
    "print(f\"Aisle ID 100: {aisle}\")\n",
    "print(f\"Department ID 21: {department}\")\n",
    "# Print the result\n",
    "\n",
    "# What is this ailse and department?"
   ]
  },
  {
   "cell_type": "code",
   "execution_count": 113,
   "id": "6b295120",
   "metadata": {},
   "outputs": [],
   "source": [
    "products_cleaned['product_name'].fillna('Unknown', inplace=True)\n",
    "\n",
    "# Fill missing product names with 'Unknown'"
   ]
  },
  {
   "cell_type": "markdown",
   "id": "7eb45c86",
   "metadata": {},
   "source": [
    "### `orders` data frame"
   ]
  },
  {
   "cell_type": "code",
   "execution_count": 114,
   "id": "166e5a86",
   "metadata": {},
   "outputs": [
    {
     "name": "stdout",
     "output_type": "stream",
     "text": [
      "Number of missing values in non-first orders: 0\n"
     ]
    }
   ],
   "source": [
    "missing_values_non_first_orders = instacart_orders_cleaned[(instacart_orders_cleaned['order_number'] > 1) & (instacart_orders_cleaned['days_since_prior_order'].isna())] \n",
    "# Customers' first order will have 'order_number' equal to 1\n",
    "\n",
    "print(f\"Number of missing values in non-first orders: {len(missing_values_non_first_orders)}\") # Print the number of missing values found\n",
    "\n",
    "# Are there any missing values where it's not a customer's first order?"
   ]
  },
  {
   "cell_type": "markdown",
   "id": "69dc9ca4",
   "metadata": {},
   "source": [
    "### `order_products` data frame"
   ]
  },
  {
   "cell_type": "code",
   "execution_count": 115,
   "id": "9a78e5ee",
   "metadata": {},
   "outputs": [
    {
     "name": "stdout",
     "output_type": "stream",
     "text": [
      "Minimum value in 'add_to_cart_order': 1.0\n",
      "Maximum value in 'add_to_cart_order': 64.0\n"
     ]
    }
   ],
   "source": [
    "min_value = order_products_cleaned['add_to_cart_order'].min()\n",
    "max_value = order_products_cleaned['add_to_cart_order'].max()\n",
    "# Check the minimum and maximum values in the 'add_to_cart_order' column\n",
    "\n",
    "print(f\"Minimum value in 'add_to_cart_order': {min_value}\")\n",
    "print(f\"Maximum value in 'add_to_cart_order': {max_value}\")\n",
    "\n",
    "# What are the min and max values in this column?"
   ]
  },
  {
   "cell_type": "code",
   "execution_count": 116,
   "id": "ab9d0c2b",
   "metadata": {},
   "outputs": [
    {
     "name": "stdout",
     "output_type": "stream",
     "text": [
      "Number of order IDs with missing 'add_to_cart_order' values: 70\n"
     ]
    }
   ],
   "source": [
    "missing_add_to_cart_order = order_products_cleaned[order_products_cleaned['add_to_cart_order'].isna()]\n",
    "# filter rows where the 'add_to_cart_order' column has missing values\n",
    "\n",
    "order_ids_with_missing_values = missing_add_to_cart_order['order_id'].unique()\n",
    "# get unique order IDs from the filtered rows with missing 'add_to_cart_order' values\n",
    "\n",
    "print(f\"Number of order IDs with missing 'add_to_cart_order' values: {len(order_ids_with_missing_values)}\")\n",
    "# grint the number of unique order IDs that have at least one missing 'add_to_cart_order' value\n",
    "\n",
    "# Save all order IDs with at least one missing value in 'add_to_cart_order'"
   ]
  },
  {
   "cell_type": "code",
   "execution_count": 117,
   "id": "54c31695",
   "metadata": {},
   "outputs": [
    {
     "name": "stdout",
     "output_type": "stream",
     "text": [
      "Do all orders with missing values have more than 64 products? True\n"
     ]
    }
   ],
   "source": [
    "orders_with_missing_values = order_products_cleaned[order_products_cleaned['order_id'].isin(order_ids_with_missing_values)]\n",
    "# filter rows where the 'order_id' is in the list of order IDs with missing 'add_to_cart_order' values\n",
    "\n",
    "order_counts = orders_with_missing_values['order_id'].value_counts()\n",
    "# count the number of products in each order with missing 'add_to_cart_order' values\n",
    "\n",
    "all_above_64 = (order_counts > 64).all()\n",
    "# check if all orders with missing values have more than 64 products\n",
    "\n",
    "print(f\"Do all orders with missing values have more than 64 products? {all_above_64}\")\n",
    "# print whether all orders with missing values have more than 64 products\n",
    "\n",
    "# Do all orders with missing values have more than 64 products?\n"
   ]
  },
  {
   "cell_type": "code",
   "execution_count": 118,
   "id": "7a987d08",
   "metadata": {},
   "outputs": [
    {
     "data": {
      "text/html": [
       "<div>\n",
       "<style scoped>\n",
       "    .dataframe tbody tr th:only-of-type {\n",
       "        vertical-align: middle;\n",
       "    }\n",
       "\n",
       "    .dataframe tbody tr th {\n",
       "        vertical-align: top;\n",
       "    }\n",
       "\n",
       "    .dataframe thead th {\n",
       "        text-align: right;\n",
       "    }\n",
       "</style>\n",
       "<table border=\"1\" class=\"dataframe\">\n",
       "  <thead>\n",
       "    <tr style=\"text-align: right;\">\n",
       "      <th></th>\n",
       "      <th>order_id</th>\n",
       "      <th>product_id</th>\n",
       "      <th>add_to_cart_order</th>\n",
       "      <th>reordered</th>\n",
       "    </tr>\n",
       "  </thead>\n",
       "  <tbody>\n",
       "    <tr>\n",
       "      <th>0</th>\n",
       "      <td>2141543</td>\n",
       "      <td>11440</td>\n",
       "      <td>17</td>\n",
       "      <td>0</td>\n",
       "    </tr>\n",
       "    <tr>\n",
       "      <th>1</th>\n",
       "      <td>567889</td>\n",
       "      <td>1560</td>\n",
       "      <td>1</td>\n",
       "      <td>1</td>\n",
       "    </tr>\n",
       "    <tr>\n",
       "      <th>2</th>\n",
       "      <td>2261212</td>\n",
       "      <td>26683</td>\n",
       "      <td>1</td>\n",
       "      <td>1</td>\n",
       "    </tr>\n",
       "    <tr>\n",
       "      <th>3</th>\n",
       "      <td>491251</td>\n",
       "      <td>8670</td>\n",
       "      <td>35</td>\n",
       "      <td>1</td>\n",
       "    </tr>\n",
       "    <tr>\n",
       "      <th>4</th>\n",
       "      <td>2571142</td>\n",
       "      <td>1940</td>\n",
       "      <td>5</td>\n",
       "      <td>1</td>\n",
       "    </tr>\n",
       "  </tbody>\n",
       "</table>\n",
       "</div>"
      ],
      "text/plain": [
       "   order_id  product_id  add_to_cart_order  reordered\n",
       "0   2141543       11440                 17          0\n",
       "1    567889        1560                  1          1\n",
       "2   2261212       26683                  1          1\n",
       "3    491251        8670                 35          1\n",
       "4   2571142        1940                  5          1"
      ]
     },
     "execution_count": 118,
     "metadata": {},
     "output_type": "execute_result"
    }
   ],
   "source": [
    "order_products_cleaned['add_to_cart_order'] = order_products_cleaned['add_to_cart_order'].astype('Int64', errors='ignore')\n",
    "#Use Int64 to allow the column to contain both integers and missing values.\n",
    "\n",
    "order_products_cleaned.head()\n",
    "# display the first few rows to verify changes\n",
    "\n",
    "# Replace missing values with 999 and convert column to integer type\n"
   ]
  },
  {
   "cell_type": "markdown",
   "id": "turkish-kidney",
   "metadata": {},
   "source": [
    "# [A] Easy (must complete all to pass)"
   ]
  },
  {
   "cell_type": "markdown",
   "id": "short-capability",
   "metadata": {},
   "source": [
    "### [A1] Verify that the `'order_hour_of_day'` and `'order_dow'` values in the `orders` tables are sensible (i.e. `'order_hour_of_day'` ranges from 0 to 23 and `'order_dow'` ranges from 0 to 6)"
   ]
  },
  {
   "cell_type": "code",
   "execution_count": 119,
   "id": "growing-fruit",
   "metadata": {},
   "outputs": [
    {
     "name": "stdout",
     "output_type": "stream",
     "text": [
      "Order Hour of Day - Min: 0, Max: 23\n"
     ]
    }
   ],
   "source": [
    "min_order_hour = instacart_orders_cleaned['order_hour_of_day'].min()\n",
    "max_order_hour = instacart_orders_cleaned['order_hour_of_day'].max()\n",
    "\n",
    "print(f\"Order Hour of Day - Min: {min_order_hour}, Max: {max_order_hour}\")\n",
    "\n",
    "# Verify the 'order_hour_of_day' values range from 0 to 23"
   ]
  },
  {
   "cell_type": "code",
   "execution_count": 120,
   "id": "accessory-malaysia",
   "metadata": {},
   "outputs": [
    {
     "name": "stdout",
     "output_type": "stream",
     "text": [
      "Order Day of Week - Min: 0, Max: 6\n"
     ]
    }
   ],
   "source": [
    "min_order_dow = instacart_orders_cleaned['order_dow'].min()\n",
    "max_order_dow = instacart_orders_cleaned['order_dow'].max()\n",
    "# verify the 'order_dow' values range from 0 to 6\n",
    "\n",
    "print(f\"Order Day of Week - Min: {min_order_dow}, Max: {max_order_dow}\")"
   ]
  },
  {
   "cell_type": "markdown",
   "id": "a6743a70",
   "metadata": {},
   "source": [
    "### [A2] What time of day do people shop for groceries? \n",
    "\n",
    "Based on the data, it’s clear that Instacart customers prefer to shop during the late morning and early afternoon hours. The peak shopping window falls between 9:00 AM and 4:00 PM, with a steady stream of activity as shoppers get their groceries in order for the day. These hours likely align with customers looking for convenience before or after lunchtime, making it the prime time for grocery deliveries."
   ]
  },
  {
   "cell_type": "code",
   "execution_count": 121,
   "id": "a36cca27",
   "metadata": {},
   "outputs": [
    {
     "data": {
      "image/png": "[encoded data removed]",
      "text/plain": [
       "<Figure size 1000x600 with 1 Axes>"
      ]
     },
     "metadata": {},
     "output_type": "display_data"
    }
   ],
   "source": [
    "import matplotlib.pyplot as plt\n",
    "\n",
    "order_hour_counts = instacart_orders_cleaned['order_hour_of_day'].value_counts().sort_index()\n",
    "# group the data by 'order_hour_of_day' and count the number of orders for each hour\n",
    "\n",
    "plt.figure(figsize=(10, 6))\n",
    "plt.bar(order_hour_counts.index, order_hour_counts.values, color='skyblue') # show number of orders for each day\n",
    "plt.xlabel('Hour of the Day') # x axis\n",
    "plt.ylabel('Number of Orders') # y axis\n",
    "plt.title('Distribution of Orders by Hour of the Day') # title\n",
    "plt.xticks(range(0, 24))  # Set x-axis ticks to represent all 24 hours\n",
    "plt.grid(axis='y', linestyle='--') # add grid lines along the y-axis\n",
    "plt.show()"
   ]
  },
  {
   "cell_type": "markdown",
   "id": "11270eed",
   "metadata": {},
   "source": [
    "### Conclusion: Shopping Behavior by Hour of the Day\n",
    "\n",
    "The data shows that the majority of grocery shopping takes place between 9 AM and 4 PM, with peak activity observed around midday. This suggests that customers prefer to shop during standard daytime hours, likely indicating a preference for managing groceries earlier in the day when they have more availability. This insight can help with optimizing delivery schedules and staffing for peak demand hours."
   ]
  },
  {
   "cell_type": "markdown",
   "id": "documented-command",
   "metadata": {},
   "source": [
    "### [A3] What day of the week do people shop for groceries?\n",
    "\n",
    "From the data, it’s evident that Sundays and Mondays are the most popular days for grocery shopping. It seems that customers prefer to restock their kitchens at the start of the week, perhaps after planning meals or noticing they’re running low after the weekend. This trend suggests that many shoppers use Instacart to kick off their week fully prepared."
   ]
  },
  {
   "cell_type": "code",
   "execution_count": 122,
   "id": "chief-digit",
   "metadata": {},
   "outputs": [
    {
     "data": {
      "image/png": "[encoded data removed]",
      "text/plain": [
       "<Figure size 1000x600 with 1 Axes>"
      ]
     },
     "metadata": {},
     "output_type": "display_data"
    }
   ],
   "source": [
    "order_dow_counts = instacart_orders_cleaned['order_dow'].value_counts().sort_index() # group the data by 'order_dow' and count the number of orders\n",
    "\n",
    "plt.figure(figsize=(10, 6)) # create a new figure for the plot with specified width and height\n",
    "plt.bar(order_dow_counts.index, order_dow_counts.values, color='lightcoral') # plot a bar chart showing the number of orders for each day of the week\n",
    "plt.xlabel('Day of the Week') # set the label for the x-axis as \"Day of the Week\"\n",
    "plt.ylabel('Number of Orders') # set the label for the y-axis as \"Number of Orders\"\n",
    "plt.title('Distribution of Orders by Day of the Week') # set the title of the plot to describe what it represents\n",
    "plt.xticks(ticks=range(0, 7), labels=['Sunday', 'Monday', 'Tuesday', 'Wednesday', 'Thursday', 'Friday', 'Saturday']) # Set the x-axis tick labels to show the days of the week (0-6)\n",
    "plt.grid(axis='y', linestyle='--') # add grid lines along the y-axis to make it easier to compare the heights of the bars\n",
    "plt.show() # display the plot\n",
    "\n",
    "# Plot the distribution of orders by day of the week\n"
   ]
  },
  {
   "cell_type": "markdown",
   "id": "dominant-lightning",
   "metadata": {},
   "source": [
    "Conclusion: Shopping Behavior by Day of the Week\n",
    "\n",
    "The analysis shows that the most popular shopping days are Sunday and Monday. This suggests that customers prefer to do their grocery shopping at the start of the week, likely to restock after the weekend. Understanding these peak shopping days helps in optimizing resource allocation such as inventory management, marketing campaigns, and staffing to better accommodate high customer activity on these days. Encouraging shopping on less busy days might also help balance the load for Instacart operations."
   ]
  },
  {
   "cell_type": "markdown",
   "id": "cutting-concert",
   "metadata": {},
   "source": [
    "### [A4] How long do people wait until placing another order?\n",
    "\n",
    "Our data reveals that customers tend to reorder groceries either on a weekly or monthly basis. The most frequent reorder intervals are within 7 days and 30 days, suggesting that many customers prefer to restock their groceries either every week or once a month. This trend highlights the convenience that Instacart offers for maintaining consistent grocery supplies, catering to both weekly planners and those with longer-term shopping habits."
   ]
  },
  {
   "cell_type": "code",
   "execution_count": 123,
   "id": "c231f523",
   "metadata": {},
   "outputs": [
    {
     "data": {
      "image/png": "[encoded data removed]",
      "text/plain": [
       "<Figure size 1000x600 with 1 Axes>"
      ]
     },
     "metadata": {},
     "output_type": "display_data"
    }
   ],
   "source": [
    "days_since_counts = instacart_orders_cleaned['days_since_prior_order'].value_counts().sort_index() # group the data by 'days_since_prior_order' and count the number of orders for each wait time\n",
    "\n",
    "plt.figure(figsize=(10, 6)) # create plot with specified width and height\n",
    "plt.bar(days_since_counts.index, days_since_counts.values, color='mediumseagreen') # plot a bar chart showing the number of orders based on days since the prior order\n",
    "plt.xlabel('Days Since Prior Order') # set the label for the x-axis as \"Days Since Prior Order\"\n",
    "plt.ylabel('Number of Orders') # set the label for the y-axis as \"Number of Orders\"\n",
    "plt.title('Distribution of Time Between Orders') # set the title of the plot to describe what it represents\n",
    "plt.grid(axis='y', linestyle='--') # add grid lines along the y-axis to make it easier to compare the heights of the bars\n",
    "plt.show() # display the plot\n",
    "\n",
    "# Plot the distribution of time between orders"
   ]
  },
  {
   "cell_type": "markdown",
   "id": "722f1f90",
   "metadata": {},
   "source": [
    "### Conclusion: Time Between Orders\n",
    "\n",
    "The analysis reveals that most customers place their next order either within 7 days or within 30 days. This indicates that there is a strong weekly and monthly shopping pattern among Instacart customers. Customers tend to either make weekly purchases to maintain a fresh supply of essentials or monthly purchases for bulk restocking. This insight can help Instacart focus on targeted marketing strategies such as weekly discounts for frequently purchased items or monthly subscription-like deals that cater to customers’ regular ordering habits. Understanding these cycles allows for more personalized engagement to retain customers and drive recurring orders."
   ]
  },
  {
   "cell_type": "markdown",
   "id": "discrete-vertex",
   "metadata": {},
   "source": [
    "<div class=\"alert alert-block alert-success\">✔️\n",
    "    \n",
    "\n",
    "__Reviewer's comment №1__\n",
    "\n",
    "The 0 values probably correspond to customers who placed more than one order on the same day."
   ]
  },
  {
   "cell_type": "markdown",
   "id": "tight-staff",
   "metadata": {},
   "source": [
    "# [B] Medium (must complete all to pass)"
   ]
  },
  {
   "cell_type": "markdown",
   "id": "packed-classic",
   "metadata": {},
   "source": [
    "### [B1] Is there a difference in `'order_hour_of_day'` distributions on Wednesdays and Saturdays? Plot the histograms for both days and describe the differences that you see.\n",
    "\n",
    "Our analysis shows that Wednesdays and Saturdays have similar shopping patterns throughout most hours of the day. However, Saturdays see a noticeable surge in orders during the late morning to early afternoon, specifically between 11:00 AM and 3:00 PM. This peak suggests that many customers take advantage of the weekend to complete their grocery shopping during these hours, possibly due to increased availability and free time compared to weekdays."
   ]
  },
  {
   "cell_type": "code",
   "execution_count": 124,
   "id": "d89b8403",
   "metadata": {},
   "outputs": [],
   "source": [
    "import matplotlib.pyplot as plt\n",
    "\n",
    "wednesday_orders = instacart_orders_cleaned[instacart_orders_cleaned['order_dow'] == 3]\n",
    "saturday_orders = instacart_orders_cleaned[instacart_orders_cleaned['order_dow'] == 6]\n",
    "# filter the data for Wednesdays and Saturdays"
   ]
  },
  {
   "cell_type": "code",
   "execution_count": 125,
   "id": "94e54e8a",
   "metadata": {},
   "outputs": [],
   "source": [
    "wednesday_hours = wednesday_orders['order_hour_of_day']\n",
    "saturday_hours = saturday_orders['order_hour_of_day']\n",
    "# get 'order_hour_of_day' for Wednesdays and Saturdays"
   ]
  },
  {
   "cell_type": "code",
   "execution_count": 126,
   "id": "797c90a8",
   "metadata": {},
   "outputs": [
    {
     "data": {
      "image/png": "[encoded data removed]",
      "text/plain": [
       "<Figure size 1000x600 with 1 Axes>"
      ]
     },
     "metadata": {},
     "output_type": "display_data"
    }
   ],
   "source": [
    "plt.figure(figsize=(10, 6)) # create plot with specified width and height\n",
    "plt.hist(wednesday_hours, bins=24, alpha=0.5, label='Wednesdays', color='blue') # plot histogram for order hours on Wednesdays with 24 bins, color blue\n",
    "plt.hist(saturday_hours, bins=24, alpha=0.5, label='Saturdays', color='green') # plot histogram for order hours on Saturdays with 24 bins,color green\n",
    "plt.xlabel('Hour of the Day') # set the label for the x-axis as \"Hour of the Day\"\n",
    "plt.ylabel('Number of Orders') # set the label for the y-axis as \"Number of Orders\"\n",
    "plt.title('Order Distribution by Hour of the Day: Wednesdays vs Saturdays') #title of plot\n",
    "plt.legend() #legend\n",
    "plt.grid(axis='y') # add a grid to the plot for the y-axis to make the data easier to compare\n",
    "plt.show() # display the plot\n",
    "\n",
    "# Plot histograms for both Wednesdays and Saturdays"
   ]
  },
  {
   "cell_type": "markdown",
   "id": "charitable-congo",
   "metadata": {},
   "source": [
    "### Conclusion: Order Hour Distribution on Wednesdays vs Saturdays\n",
    "\n",
    "The analysis shows that shopping patterns on Wednesdays and Saturdays are relatively similar throughout the day, but Saturdays have higher activity levels between 11 AM and 3 PM. This peak in shopping activity on Saturdays is likely due to customers taking advantage of their free time during weekends. In contrast, Wednesdays have a more consistent but slightly lower shopping volume throughout the day. Understanding these differences allows Instacart to prepare for higher order volumes during peak weekend hours by optimizing delivery resources and ensuring sufficient inventory levels to meet the increased demand."
   ]
  },
  {
   "cell_type": "markdown",
   "id": "e3891143",
   "metadata": {},
   "source": [
    "### [B2] What's the distribution for the number of orders per customer? \n",
    "\n",
    "Our analysis shows that as the number of reorders increases, the number of customers decreases. This indicates that while many customers place a few orders, only a smaller group of loyal customers frequently reorder. This pattern highlights a core group of repeat shoppers who regularly use Instacart for their grocery needs, whereas most customers make only occasional purchases."
   ]
  },
  {
   "cell_type": "code",
   "execution_count": 127,
   "id": "d8c26c23",
   "metadata": {},
   "outputs": [
    {
     "data": {
      "image/png": "[encoded data removed]",
      "text/plain": [
       "<Figure size 1000x600 with 1 Axes>"
      ]
     },
     "metadata": {},
     "output_type": "display_data"
    }
   ],
   "source": [
    "orders_per_customer = instacart_orders_cleaned['user_id'].value_counts() # group the data by 'user_id' and count the number of orders per customer\n",
    "\n",
    "plt.figure(figsize=(10, 6)) # create plot with specified width and height\n",
    "plt.hist(orders_per_customer, bins=range(1, orders_per_customer.max() + 2), color='steelblue', edgecolor='black', alpha=0.7) # plot a histogram showingthe number of orders per customer\n",
    "plt.xlabel('Number of Orders per Customer') # set the label for the x-axis as \"Number of Orders per Customer\"\n",
    "plt.ylabel('Number of Customers') # set the label for the y-axis as \"Number of Customers\"\n",
    "plt.title('Distribution of Number of Orders per Customer') # set the title \n",
    "plt.grid(axis='y', linestyle='--') # add grid lines along the y-axis \n",
    "plt.show() # display the plot"
   ]
  },
  {
   "cell_type": "markdown",
   "id": "d2eff7d5",
   "metadata": {},
   "source": [
    "### Conclusion: Number of Orders per Customer\n",
    "\n",
    "The distribution shows that most customers have placed only a few orders, with a significant drop-off in the number of customers as the number of orders increases. This indicates that while Instacart has a large customer base, many customers are likely new or infrequent users. Encouraging repeat orders through loyalty programs or personalized incentives could help increase the number of customers making regular purchases. Identifying these patterns allows Instacart to focus on customer retention strategies to convert one-time shoppers into loyal customers."
   ]
  },
  {
   "cell_type": "markdown",
   "id": "54a0319c",
   "metadata": {},
   "source": [
    "### [B3] What are the top 20 popular products (display their id and name)?"
   ]
  },
  {
   "cell_type": "code",
   "execution_count": 128,
   "id": "exterior-arizona",
   "metadata": {
    "scrolled": true
   },
   "outputs": [
    {
     "name": "stdout",
     "output_type": "stream",
     "text": [
      "       product_id              product_name  order_count\n",
      "5875         5876             organic lemon        12232\n",
      "8276         8277  apple honeycrisp organic        11993\n",
      "13175       13176    bag of organic bananas        53297\n",
      "16796       16797              strawberries        20018\n",
      "21136       21137      organic strawberries        37039\n",
      "21902       21903      organic baby spinach        33971\n",
      "22934       22935      organic yellow onion        15898\n",
      "24851       24852                    banana        66050\n",
      "24963       24964            organic garlic        15292\n",
      "26208       26209                     limes        19690\n",
      "27844       27845        organic whole milk        19600\n",
      "27965       27966       organic raspberries        19197\n",
      "28203       28204        organic fuji apple        12544\n",
      "39274       39275       organic blueberries        13879\n",
      "40705       40706    organic grape tomatoes        11781\n",
      "45006       45007          organic zucchini        14584\n",
      "47208       47209      organic hass avocado        29773\n",
      "47625       47626               large lemon        21495\n",
      "47765       47766           organic avocado        24689\n",
      "49682       49683            cucumber kirby        13675\n"
     ]
    }
   ],
   "source": [
    "product_counts = order_products_cleaned['product_id'].value_counts().head(20)\n",
    "# group the data by 'product_id' and count the number of times each product was ordered\n",
    "\n",
    "top_20_product_ids = product_counts.index\n",
    "# get the top 20 product IDs\n",
    "\n",
    "top_20_products = products_cleaned[products_cleaned['product_id'].isin(top_20_product_ids)]\n",
    "# merge with products_cleaned DataFrame to get product names\n",
    "\n",
    "top_20_products = top_20_products.merge(product_counts.rename('order_count'), left_on='product_id', right_index=True)\n",
    "# merge to add the count of orders to the top_20_products DataFrame\n",
    "\n",
    "print(top_20_products[['product_id', 'product_name', 'order_count']])\n",
    "# Display the top 20 products (ID, name, and order count)\n",
    "\n",
    "# What are the top 20 popular products (display their id and name)?"
   ]
  },
  {
   "cell_type": "markdown",
   "id": "7df00f47",
   "metadata": {},
   "source": []
  },
  {
   "cell_type": "markdown",
   "id": "gross-theme",
   "metadata": {},
   "source": [
    "# [C] Hard (must complete at least two to pass)"
   ]
  },
  {
   "cell_type": "markdown",
   "id": "romantic-deposit",
   "metadata": {},
   "source": [
    "### [C1] How many items do people typically buy in one order? What does the distribution look like?\n",
    "\n",
    "Our analysis shows that customers most frequently purchase between 5 to 8 items per order. This peak suggests that many shoppers use Instacart for smaller, focused grocery runs rather than bulk buying. These typical order sizes might indicate regular restocking or purchasing for specific meals rather than larger monthly or bi-weekly trips."
   ]
  },
  {
   "cell_type": "code",
   "execution_count": 129,
   "id": "virtual-punch",
   "metadata": {},
   "outputs": [
    {
     "data": {
      "image/png": "[encoded data removed]",
      "text/plain": [
       "<Figure size 1400x600 with 1 Axes>"
      ]
     },
     "metadata": {},
     "output_type": "display_data"
    }
   ],
   "source": [
    "items_per_order = order_products_cleaned['order_id'].value_counts() # group the data by 'order_id' and count the number of items in each order\n",
    "\n",
    "plt.figure(figsize=(14, 6)) # create a plot with specified width and height\n",
    "plt.hist(items_per_order, bins=range(1, items_per_order.max() + 2), color='red', edgecolor='black') # plot a histogram showing the distribution of the number of items per order\n",
    "plt.xlabel('Number of Items per Order') # set the label for the x-axis as \"Number of Items per Order\"\n",
    "plt.ylabel('Number of Orders') # set the label for the y-axis as \"Number of Orders\"\n",
    "plt.title('Distribution of Number of Items per Order') # Sst the title of the plot\n",
    "plt.grid(axis='y', linestyle='--') # add grid lines along the y-axis \n",
    "plt.show() # display the plot\n",
    "\n",
    "# Plot the distribution of number of items per order"
   ]
  },
  {
   "cell_type": "markdown",
   "id": "designed-mortality",
   "metadata": {},
   "source": [
    "### Conclusion: Number of Items per Order\n",
    "\n",
    "The analysis indicates that most customers typically buy 5 to 8 items per order, with this range being the peak in the distribution. This suggests that many customers are using Instacart for smaller, more frequent trips rather than bulk shopping. These smaller orders could be driven by a need for quick restocking of essentials rather than a comprehensive grocery haul. Understanding this behavior allows Instacart to tailor its services, such as offering personalized recommendations for smaller baskets or incentivizing customers to add a few extra items to their cart to reach a certain threshold for discounts."
   ]
  },
  {
   "cell_type": "markdown",
   "id": "5e6b5537",
   "metadata": {},
   "source": [
    "### [C2] What are the top 20 items that are reordered most frequently (display their names and product IDs)?"
   ]
  },
  {
   "cell_type": "code",
   "execution_count": 130,
   "id": "9374e55a",
   "metadata": {},
   "outputs": [],
   "source": [
    "reordered_products = order_products_cleaned[order_products_cleaned['reordered'] == 1]\n",
    "\n",
    "# filter the data to include only reordered items"
   ]
  },
  {
   "cell_type": "code",
   "execution_count": 131,
   "id": "possible-change",
   "metadata": {
    "scrolled": true
   },
   "outputs": [],
   "source": [
    "reordered_counts = reordered_products['product_id'].value_counts().head(20)\n",
    "\n",
    "# group the data by 'product_id' and count the number of times each product was reordered"
   ]
  },
  {
   "cell_type": "code",
   "execution_count": 132,
   "id": "professional-surfing",
   "metadata": {
    "scrolled": true
   },
   "outputs": [],
   "source": [
    "top_20_reordered_ids = reordered_counts.index\n",
    "\n",
    "# Extract the top 20 product IDs for reordered items"
   ]
  },
  {
   "cell_type": "code",
   "execution_count": 133,
   "id": "48dd3658",
   "metadata": {},
   "outputs": [],
   "source": [
    "top_20_reordered_products = products_cleaned[products_cleaned['product_id'].isin(top_20_reordered_ids)]\n",
    "\n",
    "# merge with products_cleaned DataFrame to get product names for top 20 reordered products\n"
   ]
  },
  {
   "cell_type": "code",
   "execution_count": 134,
   "id": "b94c0672",
   "metadata": {},
   "outputs": [],
   "source": [
    "top_20_reordered_products = top_20_reordered_products.merge(reordered_counts.rename('reorder_count'), left_on='product_id', right_index=True)\n",
    "\n",
    "# merge to add the reorder count to the top_20_reordered_products DataFrame\n"
   ]
  },
  {
   "cell_type": "code",
   "execution_count": 135,
   "id": "50bfd794",
   "metadata": {},
   "outputs": [
    {
     "name": "stdout",
     "output_type": "stream",
     "text": [
      "       product_id              product_name  reorder_count\n",
      "5875         5876             organic lemon           8412\n",
      "8276         8277  apple honeycrisp organic           8836\n",
      "13175       13176    bag of organic bananas          44450\n",
      "16796       16797              strawberries          13945\n",
      "21136       21137      organic strawberries          28639\n",
      "21902       21903      organic baby spinach          26233\n",
      "22934       22935      organic yellow onion          11145\n",
      "24851       24852                    banana          55763\n",
      "24963       24964            organic garlic          10411\n",
      "26208       26209                     limes          13327\n",
      "27844       27845        organic whole milk          16251\n",
      "27965       27966       organic raspberries          14748\n",
      "28203       28204        organic fuji apple           8989\n",
      "39274       39275       organic blueberries           8799\n",
      "45006       45007          organic zucchini          10076\n",
      "47208       47209      organic hass avocado          23629\n",
      "47625       47626               large lemon          15044\n",
      "47765       47766           organic avocado          18743\n",
      "49234       49235       organic half & half           8389\n",
      "49682       49683            cucumber kirby           9538\n"
     ]
    }
   ],
   "source": [
    "print(top_20_reordered_products[['product_id', 'product_name', 'reorder_count']]) \n",
    "\n",
    "# display the top 20 reordered products (ID, name, and reorder count)"
   ]
  },
  {
   "cell_type": "code",
   "execution_count": 136,
   "id": "e2fe3926",
   "metadata": {},
   "outputs": [],
   "source": [
    "# What are the top 20 items that are reordered most frequently (display their names and product IDs)?"
   ]
  },
  {
   "cell_type": "markdown",
   "id": "80e70c74",
   "metadata": {},
   "source": []
  },
  {
   "cell_type": "markdown",
   "id": "9d312b14",
   "metadata": {},
   "source": [
    "### [C3] For each product, what proportion of its orders are reorders?"
   ]
  },
  {
   "cell_type": "code",
   "execution_count": 137,
   "id": "8ae9f4b1",
   "metadata": {},
   "outputs": [],
   "source": [
    "total_orders_per_product = order_products_cleaned['product_id'].value_counts()\n",
    "\n",
    "# group the data by 'product_id' to count the total number of orders for each product"
   ]
  },
  {
   "cell_type": "code",
   "execution_count": 138,
   "id": "103e7fe1",
   "metadata": {},
   "outputs": [],
   "source": [
    "reordered_per_product = order_products_cleaned[order_products_cleaned['reordered'] == 1]['product_id'].value_counts()\n",
    "\n",
    "# filter for reordered items and group by 'product_id' to count the number of reorders for each product"
   ]
  },
  {
   "cell_type": "code",
   "execution_count": 139,
   "id": "217bf2cc",
   "metadata": {},
   "outputs": [],
   "source": [
    "reorder_proportion = (reordered_per_product / total_orders_per_product).fillna(0)\n",
    "\n",
    "# calculate the proportion of reorders for each product"
   ]
  },
  {
   "cell_type": "code",
   "execution_count": 140,
   "id": "91f53563",
   "metadata": {},
   "outputs": [],
   "source": [
    "reorder_proportion_df = reorder_proportion.reset_index()\n",
    "reorder_proportion_df.columns = ['product_id', 'reorder_proportion']\n",
    "\n",
    "# convert the result to a DataFrame and reset the index"
   ]
  },
  {
   "cell_type": "code",
   "execution_count": 141,
   "id": "b0f3f955",
   "metadata": {},
   "outputs": [],
   "source": [
    "reorder_proportion_df = reorder_proportion_df.merge(products_cleaned[['product_id', 'product_name']], on='product_id')\n",
    "\n",
    "# merge with products_cleaned DataFrame to get product names"
   ]
  },
  {
   "cell_type": "code",
   "execution_count": 142,
   "id": "501977f7",
   "metadata": {},
   "outputs": [
    {
     "name": "stdout",
     "output_type": "stream",
     "text": [
      "       product_id  reorder_proportion  \\\n",
      "0               1            0.564286   \n",
      "1               2            0.000000   \n",
      "2               3            0.738095   \n",
      "3               4            0.510204   \n",
      "4               7            0.500000   \n",
      "...           ...                 ...   \n",
      "45568       49690            0.800000   \n",
      "45569       49691            0.430556   \n",
      "45570       49692            0.416667   \n",
      "45571       49693            0.440000   \n",
      "45572       49694            0.333333   \n",
      "\n",
      "                                            product_name  \n",
      "0                             chocolate sandwich cookies  \n",
      "1                                       all-seasons salt  \n",
      "2                   robust golden unsweetened oolong tea  \n",
      "3      smart ones classic favorites mini rigatoni wit...  \n",
      "4                         pure coconut water with orange  \n",
      "...                                                  ...  \n",
      "45568                      high performance energy drink  \n",
      "45569                      original pancake & waffle mix  \n",
      "45570    organic instant oatmeal light maple brown sugar  \n",
      "45571                             spring water body wash  \n",
      "45572                            burrito- steak & cheese  \n",
      "\n",
      "[45573 rows x 3 columns]\n"
     ]
    }
   ],
   "source": [
    "print(reorder_proportion_df)\n",
    "\n",
    "# Display the DataFrame with product ID, product name, and reorder proportion"
   ]
  },
  {
   "cell_type": "code",
   "execution_count": 143,
   "id": "social-individual",
   "metadata": {},
   "outputs": [],
   "source": [
    "# For each product, what proportion of its orders are reorders?"
   ]
  },
  {
   "cell_type": "markdown",
   "id": "subject-boxing",
   "metadata": {},
   "source": [
    "### [C4] For each customer, what proportion of their products ordered are reorders?"
   ]
  },
  {
   "cell_type": "code",
   "execution_count": 144,
   "id": "medical-couple",
   "metadata": {
    "scrolled": true
   },
   "outputs": [],
   "source": [
    "order_products_merged = order_products_cleaned.merge(instacart_orders_cleaned[['order_id', 'user_id']], on='order_id')\n",
    "\n",
    "# merge 'order_products_cleaned' with 'instacart_orders_cleaned' to bring 'user_id' into the order data"
   ]
  },
  {
   "cell_type": "code",
   "execution_count": 145,
   "id": "8892e4b4",
   "metadata": {},
   "outputs": [],
   "source": [
    "total_products_per_customer = order_products_merged.groupby('user_id')['product_id'].count()\n",
    "\n",
    "# group the data by 'user_id' to count the total number of products ordered by each customer"
   ]
  },
  {
   "cell_type": "code",
   "execution_count": 146,
   "id": "e03a28b2",
   "metadata": {},
   "outputs": [],
   "source": [
    "reordered_products_per_customer = order_products_merged[order_products_merged['reordered'] == 1].groupby('user_id')['product_id'].count()\n",
    "\n",
    "# filter for reordered products and group by 'user_id' to count the number of reorders per customer"
   ]
  },
  {
   "cell_type": "code",
   "execution_count": 147,
   "id": "1dbb67eb",
   "metadata": {},
   "outputs": [],
   "source": [
    "reorder_proportion_customer = (reordered_products_per_customer / total_products_per_customer).fillna(0)\n",
    "\n",
    "# calculate the proportion of reorders for each customer"
   ]
  },
  {
   "cell_type": "code",
   "execution_count": 148,
   "id": "45bd47ad",
   "metadata": {},
   "outputs": [],
   "source": [
    "reorder_proportion_customer_df = reorder_proportion_customer.reset_index()\n",
    "reorder_proportion_customer_df.columns = ['user_id', 'reorder_proportion']\n",
    "\n",
    "# convert the result to a DataFrame and reset the index"
   ]
  },
  {
   "cell_type": "code",
   "execution_count": 149,
   "id": "0f12a1af",
   "metadata": {},
   "outputs": [
    {
     "name": "stdout",
     "output_type": "stream",
     "text": [
      "        user_id  reorder_proportion\n",
      "0             2            0.038462\n",
      "1             4            0.000000\n",
      "2             5            0.666667\n",
      "3             6            0.000000\n",
      "4             7            0.928571\n",
      "...         ...                 ...\n",
      "149621   206203            0.222222\n",
      "149622   206206            0.714286\n",
      "149623   206207            0.891304\n",
      "149624   206208            0.696000\n",
      "149625   206209            0.320000\n",
      "\n",
      "[149626 rows x 2 columns]\n"
     ]
    }
   ],
   "source": [
    "print(reorder_proportion_customer_df)"
   ]
  },
  {
   "cell_type": "code",
   "execution_count": 150,
   "id": "80a3b32d",
   "metadata": {},
   "outputs": [],
   "source": [
    "# For each customer, what proportion of their products ordered are reorders?"
   ]
  },
  {
   "cell_type": "markdown",
   "id": "92d35137",
   "metadata": {},
   "source": [
    "### [C5] What are the top 20 items that people put in their carts first? "
   ]
  },
  {
   "cell_type": "code",
   "execution_count": 151,
   "id": "0ae57274",
   "metadata": {
    "scrolled": true
   },
   "outputs": [],
   "source": [
    "first_items = order_products_cleaned[order_products_cleaned['add_to_cart_order'] == 1]\n",
    "\n",
    "# filter the data to include only rows where 'add_to_cart_order' is 1"
   ]
  },
  {
   "cell_type": "code",
   "execution_count": 152,
   "id": "a906ef5e",
   "metadata": {},
   "outputs": [],
   "source": [
    "first_item_counts = first_items['product_id'].value_counts().head(20)\n",
    "\n",
    "# group by 'product_id' to count the number of times each product was added to the cart first"
   ]
  },
  {
   "cell_type": "code",
   "execution_count": 153,
   "id": "9d6f8039",
   "metadata": {},
   "outputs": [],
   "source": [
    "top_20_first_item_ids = first_item_counts.index\n",
    "\n",
    "# get the top 20 product IDs for items added first to the cart"
   ]
  },
  {
   "cell_type": "code",
   "execution_count": 154,
   "id": "1eb27a9b",
   "metadata": {},
   "outputs": [],
   "source": [
    "top_20_first_items = products_cleaned[products_cleaned['product_id'].isin(top_20_first_item_ids)]\n",
    "\n",
    "# merge with products_cleaned DataFrame to get product names for the top 20 first items"
   ]
  },
  {
   "cell_type": "code",
   "execution_count": 155,
   "id": "forty-netherlands",
   "metadata": {
    "scrolled": true
   },
   "outputs": [],
   "source": [
    "top_20_first_items = top_20_first_items.merge(first_item_counts.rename('first_add_count'), left_on='product_id', right_index=True)\n",
    "\n",
    "# merge to add the count of first additions to the top_20_first_items DataFrame"
   ]
  },
  {
   "cell_type": "code",
   "execution_count": 156,
   "id": "08e41ec2",
   "metadata": {},
   "outputs": [
    {
     "name": "stdout",
     "output_type": "stream",
     "text": [
      "       product_id                 product_name  first_add_count\n",
      "195           196                         soda             1733\n",
      "5784         5785  organic reduced fat 2% milk             1310\n",
      "12340       12341                hass avocados             1340\n",
      "13175       13176       bag of organic bananas            11026\n",
      "16796       16797                 strawberries             2308\n",
      "19659       19660                 spring water             2336\n",
      "21136       21137         organic strawberries             3946\n",
      "21902       21903         organic baby spinach             3336\n",
      "22934       22935         organic yellow onion             1246\n",
      "24851       24852                       banana            15562\n",
      "26208       26209                        limes             1370\n",
      "27085       27086                  half & half             1309\n",
      "27844       27845           organic whole milk             4363\n",
      "27965       27966          organic raspberries             2024\n",
      "38688       38689     organic reduced fat milk             1397\n",
      "44631       44632   sparkling water grapefruit             1914\n",
      "47208       47209         organic hass avocado             3390\n",
      "47625       47626                  large lemon             1737\n",
      "47765       47766              organic avocado             3044\n",
      "49234       49235          organic half & half             1797\n"
     ]
    }
   ],
   "source": [
    "print(top_20_first_items[['product_id', 'product_name', 'first_add_count']])"
   ]
  },
  {
   "cell_type": "markdown",
   "id": "f2886927",
   "metadata": {},
   "source": [
    "### Project Conclusion: Instacart Customer Shopping Behavior Analysis\n",
    "\n",
    "In this project, we explored various aspects of Instacart customer shopping behavior to gain insights into their preferences, shopping habits, and reorder patterns. By analyzing data on orders, products, and customer interactions, we uncovered several key findings:\n",
    "\n",
    "1. Shopping Patterns by Day and Time: Customers tend to shop most frequently during midday hours, particularly between 9 AM and 4 PM. The most popular shopping days are Sundays and Mondays, indicating that customers prefer to restock their groceries at the beginning of the week. Saturdays also experience higher activity during 11 AM to 3 PM, likely due to increased free time during weekends.\n",
    "\n",
    "2. Frequency of Orders: The distribution of the number of orders placed by each customer reveals that while many customers use Instacart for a few orders, fewer customers continue to place regular, frequent orders. This suggests that there is an opportunity to improve customer retention and encourage more frequent use through loyalty programs or targeted incentives.\n",
    "\n",
    "3. Order Composition: The most typical order size contains 5 to 8 items, highlighting that Instacart is often used for smaller, targeted shopping trips rather than large, bulk purchases. This insight suggests that customers frequently use the service to restock essentials, which can be leveraged for targeted product recommendations or promotions encouraging larger baskets.\n",
    "\n",
    "4. Reordering Behavior: Customers often reorder staple items, with products like bananas, milk, and eggs being among the most frequently reordered. This suggests that many customers use Instacart to restock regular essentials, which can be used to inform inventory management strategies and product recommendations.\n",
    "\n",
    "5. Time Between Orders: The analysis shows that many customers place orders on a weekly or monthly basis, aligning with either weekly restocking of essentials or monthly bulk purchases. This provides an opportunity for Instacart to tailor marketing strategies to these predictable ordering cycles, encouraging more frequent purchasing behaviors.\n",
    "\n",
    "6. Cart Behavior: The top 20 items that customers add to their carts first are typically essentials, reinforcing the importance of these products. Understanding these cart priorities can help with personalized promotions or featured product placements to encourage customers to fill their carts.\n",
    "\n",
    "Overall, these insights provide a comprehensive understanding of customer shopping habits, from the frequency of their orders to their typical basket size and the times they prefer to shop. This knowledge can be utilized to improve operational efficiency, marketing strategies, and customer retention programs. By optimizing inventory based on peak shopping hours, tailoring promotions to restocking cycles, and encouraging larger basket sizes, Instacart can continue to enhance the customer experience and drive growth.\n",
    "\n",
    "The key focus moving forward should be on improving customer loyalty and engagement, encouraging more frequent use, and capitalizing on the observed shopping patterns to deliver even more personalized and effective services."
   ]
  }
 ],
 "metadata": {
  "ExecuteTimeLog": [
   {
    "duration": 301,
    "start_time": "2024-10-17T18:20:16.417Z"
   },
   {
    "duration": 297,
    "start_time": "2024-10-17T18:20:25.582Z"
   },
   {
    "duration": 62,
    "start_time": "2024-10-17T18:20:37.847Z"
   },
   {
    "duration": 503,
    "start_time": "2024-10-17T18:25:55.712Z"
   },
   {
    "duration": 60,
    "start_time": "2024-10-17T18:26:30.306Z"
   },
   {
    "duration": 58,
    "start_time": "2024-10-17T18:26:56.037Z"
   },
   {
    "duration": 12,
    "start_time": "2024-10-17T18:32:48.236Z"
   },
   {
    "duration": 2,
    "start_time": "2024-10-17T18:36:34.648Z"
   },
   {
    "duration": 57,
    "start_time": "2024-10-17T18:36:35.403Z"
   },
   {
    "duration": 121,
    "start_time": "2024-10-17T18:37:23.717Z"
   },
   {
    "duration": 91,
    "start_time": "2024-10-17T18:37:36.655Z"
   },
   {
    "duration": 11,
    "start_time": "2024-10-17T18:38:30.089Z"
   },
   {
    "duration": 103,
    "start_time": "2024-10-17T18:38:42.652Z"
   },
   {
    "duration": 86,
    "start_time": "2024-10-17T18:38:52.618Z"
   },
   {
    "duration": 27,
    "start_time": "2024-10-17T18:39:04.754Z"
   },
   {
    "duration": 57,
    "start_time": "2024-10-17T18:41:25.148Z"
   },
   {
    "duration": 59,
    "start_time": "2024-10-17T18:41:33.444Z"
   },
   {
    "duration": 58,
    "start_time": "2024-10-17T18:41:37.910Z"
   },
   {
    "duration": 82,
    "start_time": "2024-10-17T18:41:54.545Z"
   },
   {
    "duration": 5,
    "start_time": "2024-10-17T18:41:55.189Z"
   },
   {
    "duration": 92,
    "start_time": "2024-10-17T18:41:55.747Z"
   },
   {
    "duration": 98,
    "start_time": "2024-10-17T18:41:56.309Z"
   },
   {
    "duration": 30,
    "start_time": "2024-10-17T18:41:58.524Z"
   },
   {
    "duration": 58,
    "start_time": "2024-10-17T18:42:18.992Z"
   },
   {
    "duration": 59,
    "start_time": "2024-10-17T18:42:34.644Z"
   },
   {
    "duration": 59,
    "start_time": "2024-10-17T18:42:44.977Z"
   },
   {
    "duration": 56,
    "start_time": "2024-10-17T18:42:46.986Z"
   },
   {
    "duration": 57,
    "start_time": "2024-10-17T18:43:05.660Z"
   },
   {
    "duration": 133,
    "start_time": "2024-10-17T18:43:46.315Z"
   },
   {
    "duration": 33,
    "start_time": "2024-10-17T18:43:50.594Z"
   },
   {
    "duration": 12,
    "start_time": "2024-10-17T18:43:53.504Z"
   },
   {
    "duration": 14,
    "start_time": "2024-10-17T18:44:11.614Z"
   },
   {
    "duration": 14,
    "start_time": "2024-10-17T18:44:37.339Z"
   },
   {
    "duration": 12,
    "start_time": "2024-10-17T18:45:09.065Z"
   },
   {
    "duration": 12,
    "start_time": "2024-10-17T18:46:58.219Z"
   },
   {
    "duration": 13,
    "start_time": "2024-10-17T18:47:39.378Z"
   },
   {
    "duration": 12,
    "start_time": "2024-10-17T18:47:59.070Z"
   },
   {
    "duration": 102,
    "start_time": "2024-10-17T18:48:03.358Z"
   },
   {
    "duration": 17,
    "start_time": "2024-10-17T18:48:05.905Z"
   },
   {
    "duration": 2,
    "start_time": "2024-10-17T18:48:17.080Z"
   },
   {
    "duration": 2,
    "start_time": "2024-10-17T18:48:19.149Z"
   },
   {
    "duration": 2,
    "start_time": "2024-10-17T18:48:26.673Z"
   },
   {
    "duration": 2,
    "start_time": "2024-10-17T18:48:33.024Z"
   },
   {
    "duration": 2,
    "start_time": "2024-10-17T18:48:38.539Z"
   },
   {
    "duration": 13,
    "start_time": "2024-10-17T18:49:49.917Z"
   },
   {
    "duration": 1777,
    "start_time": "2024-10-17T18:50:15.957Z"
   },
   {
    "duration": 7,
    "start_time": "2024-10-17T18:50:42.486Z"
   },
   {
    "duration": 6,
    "start_time": "2024-10-17T18:51:15.363Z"
   },
   {
    "duration": 3,
    "start_time": "2024-10-17T18:51:32.363Z"
   },
   {
    "duration": 11,
    "start_time": "2024-10-17T18:51:41.958Z"
   },
   {
    "duration": 6,
    "start_time": "2024-10-17T18:51:48.224Z"
   },
   {
    "duration": 197,
    "start_time": "2024-10-17T18:51:56.052Z"
   },
   {
    "duration": 31,
    "start_time": "2024-10-17T18:52:01.913Z"
   },
   {
    "duration": 1887,
    "start_time": "2024-10-17T18:52:02.449Z"
   },
   {
    "duration": 6,
    "start_time": "2024-10-17T18:52:04.338Z"
   },
   {
    "duration": 5,
    "start_time": "2024-10-17T18:52:04.345Z"
   },
   {
    "duration": 11,
    "start_time": "2024-10-17T18:52:29.652Z"
   },
   {
    "duration": 232,
    "start_time": "2024-10-17T18:56:18.986Z"
   },
   {
    "duration": 31,
    "start_time": "2024-10-17T18:56:26.746Z"
   },
   {
    "duration": 5,
    "start_time": "2024-10-17T18:56:37.276Z"
   },
   {
    "duration": 1856,
    "start_time": "2024-10-17T18:56:55.438Z"
   },
   {
    "duration": 2,
    "start_time": "2024-10-17T18:56:59.597Z"
   },
   {
    "duration": 245,
    "start_time": "2024-10-17T18:56:59.891Z"
   },
   {
    "duration": 30,
    "start_time": "2024-10-17T18:57:00.208Z"
   },
   {
    "duration": 5,
    "start_time": "2024-10-17T18:57:00.551Z"
   },
   {
    "duration": 6,
    "start_time": "2024-10-17T18:57:00.866Z"
   },
   {
    "duration": 1847,
    "start_time": "2024-10-17T18:57:01.210Z"
   },
   {
    "duration": 2,
    "start_time": "2024-10-17T18:57:10.048Z"
   },
   {
    "duration": 164,
    "start_time": "2024-10-17T18:58:04.019Z"
   },
   {
    "duration": 391,
    "start_time": "2024-10-17T18:58:19.322Z"
   },
   {
    "duration": 38,
    "start_time": "2024-10-17T18:59:45.602Z"
   },
   {
    "duration": 105,
    "start_time": "2024-10-17T19:01:34.263Z"
   },
   {
    "duration": 29,
    "start_time": "2024-10-17T19:01:35.510Z"
   },
   {
    "duration": 6,
    "start_time": "2024-10-17T19:01:35.887Z"
   },
   {
    "duration": 5,
    "start_time": "2024-10-17T19:01:36.082Z"
   },
   {
    "duration": 1832,
    "start_time": "2024-10-17T19:01:36.273Z"
   },
   {
    "duration": 80,
    "start_time": "2024-10-17T19:01:38.107Z"
   },
   {
    "duration": 4,
    "start_time": "2024-10-17T19:01:38.488Z"
   },
   {
    "duration": 67,
    "start_time": "2024-10-17T19:02:15.895Z"
   },
   {
    "duration": 49,
    "start_time": "2024-10-17T19:02:26.767Z"
   },
   {
    "duration": 68,
    "start_time": "2024-10-17T19:03:10.058Z"
   },
   {
    "duration": 14,
    "start_time": "2024-10-17T19:05:52.999Z"
   },
   {
    "duration": 21,
    "start_time": "2024-10-17T19:06:02.581Z"
   },
   {
    "duration": 20,
    "start_time": "2024-10-17T19:07:16.244Z"
   },
   {
    "duration": 30,
    "start_time": "2024-10-17T19:08:06.904Z"
   },
   {
    "duration": 5,
    "start_time": "2024-10-17T19:08:10.309Z"
   },
   {
    "duration": 19,
    "start_time": "2024-10-17T19:09:05.316Z"
   },
   {
    "duration": 25,
    "start_time": "2024-10-17T19:09:55.388Z"
   },
   {
    "duration": 12,
    "start_time": "2024-10-17T19:11:04.749Z"
   },
   {
    "duration": 20,
    "start_time": "2024-10-17T19:12:09.104Z"
   },
   {
    "duration": 11,
    "start_time": "2024-10-17T19:12:34.563Z"
   },
   {
    "duration": 3,
    "start_time": "2024-10-17T19:12:56.635Z"
   },
   {
    "duration": 105,
    "start_time": "2024-10-17T19:12:56.960Z"
   },
   {
    "duration": 29,
    "start_time": "2024-10-17T19:12:57.267Z"
   },
   {
    "duration": 67,
    "start_time": "2024-10-17T19:12:59.197Z"
   },
   {
    "duration": 4,
    "start_time": "2024-10-17T19:12:59.382Z"
   },
   {
    "duration": 66,
    "start_time": "2024-10-17T19:12:59.567Z"
   },
   {
    "duration": 34,
    "start_time": "2024-10-17T19:12:59.756Z"
   },
   {
    "duration": 64,
    "start_time": "2024-10-17T19:12:59.939Z"
   },
   {
    "duration": 13,
    "start_time": "2024-10-17T19:13:00.497Z"
   },
   {
    "duration": 4,
    "start_time": "2024-10-17T19:13:00.661Z"
   },
   {
    "duration": 20,
    "start_time": "2024-10-17T19:13:00.855Z"
   },
   {
    "duration": 10,
    "start_time": "2024-10-17T19:13:01.029Z"
   },
   {
    "duration": 3,
    "start_time": "2024-10-17T19:13:12.547Z"
   },
   {
    "duration": 6,
    "start_time": "2024-10-17T19:13:12.967Z"
   },
   {
    "duration": 4,
    "start_time": "2024-10-17T19:13:19.256Z"
   },
   {
    "duration": 5,
    "start_time": "2024-10-17T19:13:19.793Z"
   },
   {
    "duration": 1623,
    "start_time": "2024-10-17T19:17:17.809Z"
   },
   {
    "duration": 736,
    "start_time": "2024-10-17T19:17:40.177Z"
   },
   {
    "duration": 815,
    "start_time": "2024-10-17T19:18:36.109Z"
   },
   {
    "duration": 710,
    "start_time": "2024-10-17T19:18:50.208Z"
   },
   {
    "duration": 5,
    "start_time": "2024-10-17T19:20:57.415Z"
   },
   {
    "duration": 3,
    "start_time": "2024-10-17T19:21:07.980Z"
   },
   {
    "duration": 42,
    "start_time": "2024-10-17T19:21:21.721Z"
   },
   {
    "duration": 43,
    "start_time": "2024-10-17T19:23:24.070Z"
   },
   {
    "duration": 42,
    "start_time": "2024-10-17T19:24:49.266Z"
   },
   {
    "duration": 12,
    "start_time": "2024-10-17T19:25:41.981Z"
   },
   {
    "duration": 9,
    "start_time": "2024-10-17T19:25:52.304Z"
   },
   {
    "duration": 809,
    "start_time": "2024-10-17T19:25:54.336Z"
   },
   {
    "duration": 723,
    "start_time": "2024-10-17T19:25:55.147Z"
   },
   {
    "duration": 5,
    "start_time": "2024-10-17T19:25:56.845Z"
   },
   {
    "duration": 3,
    "start_time": "2024-10-17T19:25:57.396Z"
   },
   {
    "duration": 40,
    "start_time": "2024-10-17T19:26:14.484Z"
   },
   {
    "duration": 6,
    "start_time": "2024-10-17T19:26:42.326Z"
   },
   {
    "duration": 50,
    "start_time": "2024-10-17T19:31:29.403Z"
   },
   {
    "duration": 105,
    "start_time": "2024-10-17T19:33:35.963Z"
   },
   {
    "duration": 40,
    "start_time": "2024-10-17T19:34:20.520Z"
   },
   {
    "duration": 2,
    "start_time": "2024-10-17T19:34:39.575Z"
   },
   {
    "duration": 327,
    "start_time": "2024-10-17T19:36:02.598Z"
   },
   {
    "duration": 40,
    "start_time": "2024-10-17T19:36:46.816Z"
   },
   {
    "duration": 2,
    "start_time": "2024-10-17T19:37:50.282Z"
   },
   {
    "duration": 39,
    "start_time": "2024-10-17T19:38:15.343Z"
   },
   {
    "duration": 2,
    "start_time": "2024-10-17T19:38:52.865Z"
   },
   {
    "duration": 131,
    "start_time": "2024-10-17T19:41:40.794Z"
   },
   {
    "duration": 2,
    "start_time": "2024-10-17T19:41:50.024Z"
   },
   {
    "duration": 62,
    "start_time": "2024-10-17T19:42:38.019Z"
   },
   {
    "duration": 67,
    "start_time": "2024-10-17T19:42:45.653Z"
   },
   {
    "duration": 5,
    "start_time": "2024-10-17T19:42:59.225Z"
   },
   {
    "duration": 35,
    "start_time": "2024-10-17T19:43:15.406Z"
   },
   {
    "duration": 65,
    "start_time": "2024-10-17T19:45:26.110Z"
   },
   {
    "duration": 36,
    "start_time": "2024-10-17T19:45:30.527Z"
   },
   {
    "duration": 72,
    "start_time": "2024-10-17T19:47:15.631Z"
   },
   {
    "duration": 66,
    "start_time": "2024-10-17T19:47:40.388Z"
   },
   {
    "duration": 66,
    "start_time": "2024-10-17T19:48:12.268Z"
   },
   {
    "duration": 14,
    "start_time": "2024-10-17T19:49:22.173Z"
   },
   {
    "duration": 5,
    "start_time": "2024-10-17T19:49:32.026Z"
   },
   {
    "duration": 17,
    "start_time": "2024-10-17T19:49:50.176Z"
   },
   {
    "duration": 12,
    "start_time": "2024-10-17T19:51:23.805Z"
   },
   {
    "duration": 21,
    "start_time": "2024-10-17T19:51:54.075Z"
   },
   {
    "duration": 836,
    "start_time": "2024-10-17T19:55:04.034Z"
   },
   {
    "duration": 757,
    "start_time": "2024-10-17T19:55:16.884Z"
   },
   {
    "duration": 6,
    "start_time": "2024-10-17T19:55:44.807Z"
   },
   {
    "duration": 4,
    "start_time": "2024-10-17T19:55:56.507Z"
   },
   {
    "duration": 13,
    "start_time": "2024-10-17T19:57:02.206Z"
   },
   {
    "duration": 17,
    "start_time": "2024-10-17T19:58:10.328Z"
   },
   {
    "duration": 9,
    "start_time": "2024-10-17T19:58:35.868Z"
   },
   {
    "duration": 19,
    "start_time": "2024-10-17T19:59:28.123Z"
   },
   {
    "duration": 17,
    "start_time": "2024-10-17T19:59:43.057Z"
   },
   {
    "duration": 5,
    "start_time": "2024-10-17T19:59:53.186Z"
   },
   {
    "duration": 5,
    "start_time": "2024-10-17T20:01:11.410Z"
   },
   {
    "duration": 32,
    "start_time": "2024-10-17T20:02:10.713Z"
   },
   {
    "duration": 7,
    "start_time": "2024-10-17T20:02:34.652Z"
   },
   {
    "duration": 62,
    "start_time": "2024-10-17T20:03:30.256Z"
   },
   {
    "duration": 26,
    "start_time": "2024-10-17T20:03:53.992Z"
   },
   {
    "duration": 3,
    "start_time": "2024-10-17T20:04:53.325Z"
   },
   {
    "duration": 102,
    "start_time": "2024-10-17T20:04:53.689Z"
   },
   {
    "duration": 36,
    "start_time": "2024-10-17T20:04:54.022Z"
   },
   {
    "duration": 6,
    "start_time": "2024-10-17T20:04:54.378Z"
   },
   {
    "duration": 668,
    "start_time": "2024-10-17T20:04:54.738Z"
   },
   {
    "duration": 69,
    "start_time": "2024-10-17T20:04:55.782Z"
   },
   {
    "duration": 5,
    "start_time": "2024-10-17T20:04:55.948Z"
   },
   {
    "duration": 77,
    "start_time": "2024-10-17T20:04:56.131Z"
   },
   {
    "duration": 74,
    "start_time": "2024-10-17T20:04:56.314Z"
   },
   {
    "duration": 84,
    "start_time": "2024-10-17T20:04:56.503Z"
   },
   {
    "duration": 18,
    "start_time": "2024-10-17T20:04:57.069Z"
   },
   {
    "duration": 5,
    "start_time": "2024-10-17T20:04:57.252Z"
   },
   {
    "duration": 21,
    "start_time": "2024-10-17T20:04:57.436Z"
   },
   {
    "duration": 20,
    "start_time": "2024-10-17T20:04:57.616Z"
   },
   {
    "duration": 3,
    "start_time": "2024-10-17T20:04:58.194Z"
   },
   {
    "duration": 12,
    "start_time": "2024-10-17T20:04:58.385Z"
   },
   {
    "duration": 2,
    "start_time": "2024-10-17T20:04:58.937Z"
   },
   {
    "duration": 6,
    "start_time": "2024-10-17T20:04:59.124Z"
   },
   {
    "duration": 885,
    "start_time": "2024-10-17T20:05:01.402Z"
   },
   {
    "duration": 800,
    "start_time": "2024-10-17T20:05:02.289Z"
   },
   {
    "duration": 7,
    "start_time": "2024-10-17T20:05:03.091Z"
   },
   {
    "duration": 4,
    "start_time": "2024-10-17T20:05:03.212Z"
   },
   {
    "duration": 2,
    "start_time": "2024-10-17T20:05:03.409Z"
   },
   {
    "duration": 5,
    "start_time": "2024-10-17T20:05:03.582Z"
   },
   {
    "duration": 5,
    "start_time": "2024-10-17T20:05:04.337Z"
   },
   {
    "duration": 32,
    "start_time": "2024-10-17T20:05:05.090Z"
   },
   {
    "duration": 7,
    "start_time": "2024-10-17T20:05:05.275Z"
   },
   {
    "duration": 61,
    "start_time": "2024-10-17T20:05:05.453Z"
   },
   {
    "duration": 26,
    "start_time": "2024-10-17T20:05:05.650Z"
   },
   {
    "duration": 5,
    "start_time": "2024-10-17T20:05:51.874Z"
   },
   {
    "duration": 3,
    "start_time": "2024-10-17T20:05:53.555Z"
   },
   {
    "duration": 7,
    "start_time": "2024-10-17T20:05:53.748Z"
   },
   {
    "duration": 893,
    "start_time": "2024-10-17T20:05:54.352Z"
   },
   {
    "duration": 783,
    "start_time": "2024-10-17T20:05:55.247Z"
   },
   {
    "duration": 6,
    "start_time": "2024-10-17T20:05:56.242Z"
   },
   {
    "duration": 5,
    "start_time": "2024-10-17T20:05:56.435Z"
   },
   {
    "duration": 2,
    "start_time": "2024-10-17T20:05:56.637Z"
   },
   {
    "duration": 5,
    "start_time": "2024-10-17T20:05:56.828Z"
   },
   {
    "duration": 5,
    "start_time": "2024-10-17T20:05:57.646Z"
   },
   {
    "duration": 11,
    "start_time": "2024-10-17T20:05:58.429Z"
   },
   {
    "duration": 5,
    "start_time": "2024-10-17T20:05:58.620Z"
   },
   {
    "duration": 6,
    "start_time": "2024-10-17T20:05:58.810Z"
   },
   {
    "duration": 31,
    "start_time": "2024-10-17T20:05:59.020Z"
   },
   {
    "duration": 155,
    "start_time": "2024-10-18T14:10:19.024Z"
   },
   {
    "duration": 12,
    "start_time": "2024-10-18T14:10:57.413Z"
   },
   {
    "duration": 12,
    "start_time": "2024-10-18T14:10:57.791Z"
   },
   {
    "duration": 321,
    "start_time": "2024-10-18T14:11:07.627Z"
   },
   {
    "duration": 162,
    "start_time": "2024-10-18T14:11:08.079Z"
   },
   {
    "duration": 56,
    "start_time": "2024-10-18T14:11:08.727Z"
   },
   {
    "duration": 9,
    "start_time": "2024-10-18T14:11:09.359Z"
   },
   {
    "duration": 802,
    "start_time": "2024-10-18T14:11:09.867Z"
   },
   {
    "duration": 11,
    "start_time": "2024-10-18T14:11:10.671Z"
   },
   {
    "duration": 3,
    "start_time": "2024-10-18T14:11:12.252Z"
   },
   {
    "duration": 12,
    "start_time": "2024-10-18T14:11:37.923Z"
   },
   {
    "duration": 10,
    "start_time": "2024-10-18T14:11:42.924Z"
   },
   {
    "duration": 7,
    "start_time": "2024-10-18T14:12:32.240Z"
   },
   {
    "duration": 7,
    "start_time": "2024-10-18T14:12:57.751Z"
   },
   {
    "duration": 93,
    "start_time": "2024-10-18T14:12:59.502Z"
   },
   {
    "duration": 7,
    "start_time": "2024-10-18T14:13:00.156Z"
   },
   {
    "duration": 92,
    "start_time": "2024-10-18T14:14:29.013Z"
   },
   {
    "duration": 3,
    "start_time": "2024-10-18T14:17:38.820Z"
   },
   {
    "duration": 5,
    "start_time": "2024-10-18T14:22:39.268Z"
   },
   {
    "duration": 4,
    "start_time": "2024-10-18T14:26:06.309Z"
   },
   {
    "duration": 4,
    "start_time": "2024-10-18T14:26:56.141Z"
   },
   {
    "duration": 4,
    "start_time": "2024-10-18T14:28:00.416Z"
   },
   {
    "duration": 5,
    "start_time": "2024-10-18T14:28:02.436Z"
   },
   {
    "duration": 2,
    "start_time": "2024-10-18T14:32:24.242Z"
   },
   {
    "duration": 236,
    "start_time": "2024-10-18T14:32:39.044Z"
   },
   {
    "duration": 246,
    "start_time": "2024-10-18T14:33:20.998Z"
   },
   {
    "duration": 111,
    "start_time": "2024-10-18T14:33:56.700Z"
   },
   {
    "duration": 33,
    "start_time": "2024-10-18T14:36:24.660Z"
   },
   {
    "duration": 33,
    "start_time": "2024-10-18T14:37:42.360Z"
   },
   {
    "duration": 62,
    "start_time": "2024-10-18T14:37:59.978Z"
   },
   {
    "duration": 33,
    "start_time": "2024-10-18T14:38:05.623Z"
   },
   {
    "duration": 32,
    "start_time": "2024-10-18T14:38:24.847Z"
   },
   {
    "duration": 8,
    "start_time": "2024-10-18T14:38:58.209Z"
   },
   {
    "duration": 114,
    "start_time": "2024-10-18T14:41:39.629Z"
   },
   {
    "duration": 114,
    "start_time": "2024-10-18T14:41:57.961Z"
   },
   {
    "duration": 32,
    "start_time": "2024-10-18T14:42:21.938Z"
   },
   {
    "duration": 9,
    "start_time": "2024-10-18T14:43:29.622Z"
   },
   {
    "duration": 12,
    "start_time": "2024-10-18T14:43:52.181Z"
   },
   {
    "duration": 8,
    "start_time": "2024-10-18T14:44:37.419Z"
   },
   {
    "duration": 12,
    "start_time": "2024-10-18T14:44:38.113Z"
   },
   {
    "duration": 8,
    "start_time": "2024-10-18T14:45:14.301Z"
   },
   {
    "duration": 242,
    "start_time": "2024-10-18T14:47:32.264Z"
   },
   {
    "duration": 115,
    "start_time": "2024-10-18T14:48:00.855Z"
   },
   {
    "duration": 104,
    "start_time": "2024-10-18T14:48:25.771Z"
   },
   {
    "duration": 216,
    "start_time": "2024-10-18T14:49:13.101Z"
   },
   {
    "duration": 101,
    "start_time": "2024-10-18T14:49:14.823Z"
   },
   {
    "duration": 34,
    "start_time": "2024-10-18T14:49:17.925Z"
   },
   {
    "duration": 39,
    "start_time": "2024-10-18T14:49:20.416Z"
   },
   {
    "duration": 7,
    "start_time": "2024-10-18T14:49:23.656Z"
   },
   {
    "duration": 8,
    "start_time": "2024-10-18T14:49:25.645Z"
   },
   {
    "duration": 690,
    "start_time": "2024-10-18T14:49:39.769Z"
   },
   {
    "duration": 1552,
    "start_time": "2024-10-18T14:50:35.839Z"
   },
   {
    "duration": 678,
    "start_time": "2024-10-18T14:50:44.608Z"
   },
   {
    "duration": 683,
    "start_time": "2024-10-18T14:51:17.889Z"
   },
   {
    "duration": 10,
    "start_time": "2024-10-18T14:51:26.258Z"
   },
   {
    "duration": 13,
    "start_time": "2024-10-18T14:51:33.919Z"
   },
   {
    "duration": 9,
    "start_time": "2024-10-18T14:51:43.014Z"
   },
   {
    "duration": 10,
    "start_time": "2024-10-18T14:52:10.384Z"
   },
   {
    "duration": 8,
    "start_time": "2024-10-18T14:52:16.316Z"
   },
   {
    "duration": 8,
    "start_time": "2024-10-18T14:52:22.883Z"
   },
   {
    "duration": 65,
    "start_time": "2024-10-18T14:53:48.543Z"
   },
   {
    "duration": 3,
    "start_time": "2024-10-18T14:54:07.153Z"
   },
   {
    "duration": 5,
    "start_time": "2024-10-18T14:54:35.348Z"
   },
   {
    "duration": 69,
    "start_time": "2024-10-18T14:54:47.063Z"
   },
   {
    "duration": 5,
    "start_time": "2024-10-18T14:57:27.155Z"
   },
   {
    "duration": 69,
    "start_time": "2024-10-18T14:57:41.817Z"
   },
   {
    "duration": 74,
    "start_time": "2024-10-18T14:59:16.312Z"
   },
   {
    "duration": 67,
    "start_time": "2024-10-18T15:02:31.009Z"
   },
   {
    "duration": 76,
    "start_time": "2024-10-18T15:04:55.783Z"
   },
   {
    "duration": 83,
    "start_time": "2024-10-18T15:05:32.574Z"
   },
   {
    "duration": 5,
    "start_time": "2024-10-18T15:05:51.187Z"
   },
   {
    "duration": 79,
    "start_time": "2024-10-18T15:05:51.672Z"
   },
   {
    "duration": 80,
    "start_time": "2024-10-18T15:05:52.197Z"
   },
   {
    "duration": 4,
    "start_time": "2024-10-18T15:07:28.288Z"
   },
   {
    "duration": 71,
    "start_time": "2024-10-18T15:07:28.876Z"
   },
   {
    "duration": 67,
    "start_time": "2024-10-18T15:07:29.578Z"
   },
   {
    "duration": 85,
    "start_time": "2024-10-18T15:08:02.980Z"
   },
   {
    "duration": 75,
    "start_time": "2024-10-18T15:08:16.671Z"
   },
   {
    "duration": 71,
    "start_time": "2024-10-18T15:09:23.247Z"
   },
   {
    "duration": 74,
    "start_time": "2024-10-18T15:09:24.064Z"
   },
   {
    "duration": 73,
    "start_time": "2024-10-18T15:09:41.630Z"
   },
   {
    "duration": 221,
    "start_time": "2024-10-18T15:12:11.804Z"
   },
   {
    "duration": 37,
    "start_time": "2024-10-18T15:12:26.684Z"
   },
   {
    "duration": 36,
    "start_time": "2024-10-18T15:12:51.842Z"
   },
   {
    "duration": 19,
    "start_time": "2024-10-18T15:13:15.874Z"
   },
   {
    "duration": 10,
    "start_time": "2024-10-18T15:13:39.532Z"
   },
   {
    "duration": 6,
    "start_time": "2024-10-18T15:14:17.139Z"
   },
   {
    "duration": 14,
    "start_time": "2024-10-18T15:15:26.212Z"
   },
   {
    "duration": 29,
    "start_time": "2024-10-18T15:16:02.726Z"
   },
   {
    "duration": 22,
    "start_time": "2024-10-18T15:16:24.120Z"
   },
   {
    "duration": 22,
    "start_time": "2024-10-18T15:18:30.465Z"
   },
   {
    "duration": 21,
    "start_time": "2024-10-18T15:20:20.207Z"
   },
   {
    "duration": 2,
    "start_time": "2024-10-18T15:20:28.707Z"
   },
   {
    "duration": 11,
    "start_time": "2024-10-18T15:21:40.448Z"
   },
   {
    "duration": 9,
    "start_time": "2024-10-18T15:22:52.774Z"
   },
   {
    "duration": 7,
    "start_time": "2024-10-18T15:23:32.003Z"
   },
   {
    "duration": 8,
    "start_time": "2024-10-18T15:24:16.225Z"
   },
   {
    "duration": 9,
    "start_time": "2024-10-18T15:24:24.902Z"
   },
   {
    "duration": 7,
    "start_time": "2024-10-18T15:24:48.252Z"
   },
   {
    "duration": 9,
    "start_time": "2024-10-18T15:25:07.437Z"
   },
   {
    "duration": 8,
    "start_time": "2024-10-18T15:25:38.611Z"
   },
   {
    "duration": 8,
    "start_time": "2024-10-18T15:25:40.782Z"
   },
   {
    "duration": 8,
    "start_time": "2024-10-18T15:25:43.027Z"
   },
   {
    "duration": 2,
    "start_time": "2024-10-18T15:25:46.842Z"
   },
   {
    "duration": 8,
    "start_time": "2024-10-18T15:25:48.593Z"
   },
   {
    "duration": 7,
    "start_time": "2024-10-18T15:25:50.040Z"
   },
   {
    "duration": 7,
    "start_time": "2024-10-18T15:25:50.821Z"
   },
   {
    "duration": 761,
    "start_time": "2024-10-18T15:26:14.874Z"
   },
   {
    "duration": 810,
    "start_time": "2024-10-18T15:26:37.476Z"
   },
   {
    "duration": 747,
    "start_time": "2024-10-18T15:29:09.904Z"
   },
   {
    "duration": 786,
    "start_time": "2024-10-18T15:30:21.623Z"
   },
   {
    "duration": 672,
    "start_time": "2024-10-18T15:33:00.360Z"
   },
   {
    "duration": 6,
    "start_time": "2024-10-18T15:38:27.026Z"
   },
   {
    "duration": 4,
    "start_time": "2024-10-18T15:39:47.614Z"
   },
   {
    "duration": 2,
    "start_time": "2024-10-18T15:39:52.661Z"
   },
   {
    "duration": 7,
    "start_time": "2024-10-18T15:41:03.458Z"
   },
   {
    "duration": 2,
    "start_time": "2024-10-18T15:41:45.632Z"
   },
   {
    "duration": 336,
    "start_time": "2024-10-19T20:44:24.150Z"
   },
   {
    "duration": 260,
    "start_time": "2024-10-19T20:44:24.548Z"
   },
   {
    "duration": 121,
    "start_time": "2024-10-19T20:44:25.866Z"
   },
   {
    "duration": 49,
    "start_time": "2024-10-19T20:44:26.542Z"
   },
   {
    "duration": 33,
    "start_time": "2024-10-19T20:44:27.209Z"
   },
   {
    "duration": 9,
    "start_time": "2024-10-19T20:44:27.890Z"
   },
   {
    "duration": 9,
    "start_time": "2024-10-19T20:44:28.600Z"
   },
   {
    "duration": 1959,
    "start_time": "2024-10-19T20:44:29.257Z"
   },
   {
    "duration": 699,
    "start_time": "2024-10-19T20:44:31.218Z"
   },
   {
    "duration": 10,
    "start_time": "2024-10-19T20:44:31.919Z"
   },
   {
    "duration": 9,
    "start_time": "2024-10-19T20:44:33.218Z"
   },
   {
    "duration": 8,
    "start_time": "2024-10-19T20:44:35.599Z"
   },
   {
    "duration": 8,
    "start_time": "2024-10-19T20:44:36.784Z"
   },
   {
    "duration": 77,
    "start_time": "2024-10-19T20:45:01.751Z"
   },
   {
    "duration": 4,
    "start_time": "2024-10-19T20:46:37.391Z"
   },
   {
    "duration": 11,
    "start_time": "2024-10-19T20:47:10.155Z"
   },
   {
    "duration": 563,
    "start_time": "2024-10-19T20:47:55.883Z"
   },
   {
    "duration": 6,
    "start_time": "2024-10-19T20:49:29.463Z"
   },
   {
    "duration": 6,
    "start_time": "2024-10-19T20:50:35.436Z"
   },
   {
    "duration": 6,
    "start_time": "2024-10-19T20:50:50.354Z"
   },
   {
    "duration": 6,
    "start_time": "2024-10-19T20:51:15.869Z"
   },
   {
    "duration": 4,
    "start_time": "2024-10-19T20:51:24.623Z"
   },
   {
    "duration": 83,
    "start_time": "2024-10-19T20:51:39.923Z"
   },
   {
    "duration": 6,
    "start_time": "2024-10-19T20:51:41.706Z"
   },
   {
    "duration": 5,
    "start_time": "2024-10-19T20:51:46.191Z"
   },
   {
    "duration": 5,
    "start_time": "2024-10-19T20:52:43.343Z"
   },
   {
    "duration": 94,
    "start_time": "2024-10-19T20:53:02.504Z"
   },
   {
    "duration": 109,
    "start_time": "2024-10-19T20:53:11.995Z"
   },
   {
    "duration": 88,
    "start_time": "2024-10-19T20:53:17.071Z"
   },
   {
    "duration": 44,
    "start_time": "2024-10-19T20:53:35.076Z"
   },
   {
    "duration": 12,
    "start_time": "2024-10-19T20:54:08.304Z"
   },
   {
    "duration": 6,
    "start_time": "2024-10-19T20:54:17.587Z"
   },
   {
    "duration": 22,
    "start_time": "2024-10-19T21:01:12.202Z"
   },
   {
    "duration": 27,
    "start_time": "2024-10-19T21:01:48.040Z"
   },
   {
    "duration": 24,
    "start_time": "2024-10-19T21:05:58.623Z"
   },
   {
    "duration": 13,
    "start_time": "2024-10-19T21:06:06.196Z"
   },
   {
    "duration": 24,
    "start_time": "2024-10-19T21:06:25.975Z"
   },
   {
    "duration": 11,
    "start_time": "2024-10-19T21:06:34.827Z"
   },
   {
    "duration": 4,
    "start_time": "2024-10-19T21:07:46.050Z"
   },
   {
    "duration": 10,
    "start_time": "2024-10-19T21:07:46.584Z"
   },
   {
    "duration": 8,
    "start_time": "2024-10-19T21:07:47.123Z"
   },
   {
    "duration": 8,
    "start_time": "2024-10-19T21:07:51.446Z"
   },
   {
    "duration": 2,
    "start_time": "2024-10-19T21:07:58.536Z"
   },
   {
    "duration": 10,
    "start_time": "2024-10-19T21:08:23.835Z"
   },
   {
    "duration": 8,
    "start_time": "2024-10-19T21:08:42.306Z"
   },
   {
    "duration": 9,
    "start_time": "2024-10-19T21:08:43.308Z"
   },
   {
    "duration": 915,
    "start_time": "2024-10-19T21:09:09.560Z"
   },
   {
    "duration": 884,
    "start_time": "2024-10-19T21:09:47.312Z"
   },
   {
    "duration": 800,
    "start_time": "2024-10-19T21:09:51.668Z"
   },
   {
    "duration": 283,
    "start_time": "2024-10-22T15:07:08.477Z"
   },
   {
    "duration": 266,
    "start_time": "2024-10-22T15:07:09.247Z"
   },
   {
    "duration": 118,
    "start_time": "2024-10-22T15:07:10.194Z"
   },
   {
    "duration": 49,
    "start_time": "2024-10-22T15:07:11.135Z"
   },
   {
    "duration": 33,
    "start_time": "2024-10-22T15:07:12.408Z"
   },
   {
    "duration": 10,
    "start_time": "2024-10-22T15:07:13.204Z"
   },
   {
    "duration": 8,
    "start_time": "2024-10-22T15:07:14.281Z"
   },
   {
    "duration": 2006,
    "start_time": "2024-10-22T15:07:15.420Z"
   },
   {
    "duration": 721,
    "start_time": "2024-10-22T15:07:17.428Z"
   },
   {
    "duration": 12,
    "start_time": "2024-10-22T15:07:18.151Z"
   },
   {
    "duration": 10,
    "start_time": "2024-10-22T15:07:19.510Z"
   },
   {
    "duration": 8,
    "start_time": "2024-10-22T15:07:25.117Z"
   },
   {
    "duration": 7,
    "start_time": "2024-10-22T15:07:25.896Z"
   },
   {
    "duration": 92,
    "start_time": "2024-10-22T15:07:30.974Z"
   },
   {
    "duration": 7,
    "start_time": "2024-10-22T15:07:31.498Z"
   },
   {
    "duration": 7,
    "start_time": "2024-10-22T15:07:32.032Z"
   },
   {
    "duration": 105,
    "start_time": "2024-10-22T15:07:32.551Z"
   },
   {
    "duration": 100,
    "start_time": "2024-10-22T15:07:33.152Z"
   },
   {
    "duration": 52,
    "start_time": "2024-10-22T15:07:34.028Z"
   },
   {
    "duration": 13,
    "start_time": "2024-10-22T15:07:35.753Z"
   },
   {
    "duration": 6,
    "start_time": "2024-10-22T15:07:36.122Z"
   },
   {
    "duration": 27,
    "start_time": "2024-10-22T15:07:36.889Z"
   },
   {
    "duration": 11,
    "start_time": "2024-10-22T15:07:45.219Z"
   },
   {
    "duration": 3,
    "start_time": "2024-10-22T15:07:47.983Z"
   },
   {
    "duration": 8,
    "start_time": "2024-10-22T15:07:49.268Z"
   },
   {
    "duration": 8,
    "start_time": "2024-10-22T15:07:50.241Z"
   },
   {
    "duration": 8,
    "start_time": "2024-10-22T15:07:51.026Z"
   },
   {
    "duration": 2,
    "start_time": "2024-10-22T15:07:53.557Z"
   },
   {
    "duration": 9,
    "start_time": "2024-10-22T15:07:53.947Z"
   },
   {
    "duration": 8,
    "start_time": "2024-10-22T15:07:54.834Z"
   },
   {
    "duration": 8,
    "start_time": "2024-10-22T15:07:55.453Z"
   },
   {
    "duration": 917,
    "start_time": "2024-10-22T15:07:57.646Z"
   },
   {
    "duration": 809,
    "start_time": "2024-10-22T15:07:58.565Z"
   },
   {
    "duration": 6,
    "start_time": "2024-10-22T15:08:18.294Z"
   },
   {
    "duration": 6,
    "start_time": "2024-10-22T15:08:51.026Z"
   },
   {
    "duration": 4,
    "start_time": "2024-10-22T15:08:51.596Z"
   },
   {
    "duration": 2,
    "start_time": "2024-10-22T15:08:53.010Z"
   },
   {
    "duration": 4,
    "start_time": "2024-10-22T15:09:31.626Z"
   },
   {
    "duration": 5,
    "start_time": "2024-10-22T15:11:11.028Z"
   },
   {
    "duration": 6,
    "start_time": "2024-10-22T15:11:15.434Z"
   },
   {
    "duration": 7,
    "start_time": "2024-10-22T15:12:19.009Z"
   },
   {
    "duration": 5,
    "start_time": "2024-10-22T15:13:23.212Z"
   },
   {
    "duration": 32,
    "start_time": "2024-10-22T15:15:12.027Z"
   },
   {
    "duration": 32,
    "start_time": "2024-10-22T15:15:36.741Z"
   },
   {
    "duration": 6,
    "start_time": "2024-10-22T15:16:09.823Z"
   },
   {
    "duration": 7,
    "start_time": "2024-10-22T15:19:23.378Z"
   },
   {
    "duration": 62,
    "start_time": "2024-10-22T15:20:29.152Z"
   },
   {
    "duration": 61,
    "start_time": "2024-10-22T15:22:46.284Z"
   },
   {
    "duration": 30,
    "start_time": "2024-10-22T15:23:15.413Z"
   },
   {
    "duration": 20,
    "start_time": "2024-10-22T15:24:17.923Z"
   },
   {
    "duration": 581,
    "start_time": "2024-10-22T15:32:14.239Z"
   },
   {
    "duration": 42,
    "start_time": "2024-10-22T15:33:04.229Z"
   },
   {
    "duration": 3,
    "start_time": "2024-10-22T15:34:28.657Z"
   },
   {
    "duration": 267,
    "start_time": "2024-10-22T15:34:28.848Z"
   },
   {
    "duration": 118,
    "start_time": "2024-10-22T15:34:29.118Z"
   },
   {
    "duration": 33,
    "start_time": "2024-10-22T15:34:29.257Z"
   },
   {
    "duration": 33,
    "start_time": "2024-10-22T15:34:29.414Z"
   },
   {
    "duration": 1832,
    "start_time": "2024-10-22T15:34:29.608Z"
   },
   {
    "duration": 691,
    "start_time": "2024-10-22T15:34:31.442Z"
   },
   {
    "duration": 10,
    "start_time": "2024-10-22T15:34:32.134Z"
   },
   {
    "duration": 9,
    "start_time": "2024-10-22T15:34:32.147Z"
   },
   {
    "duration": 8,
    "start_time": "2024-10-22T15:34:32.158Z"
   },
   {
    "duration": 7,
    "start_time": "2024-10-22T15:34:32.167Z"
   },
   {
    "duration": 98,
    "start_time": "2024-10-22T15:34:32.175Z"
   },
   {
    "duration": 6,
    "start_time": "2024-10-22T15:34:32.275Z"
   },
   {
    "duration": 4,
    "start_time": "2024-10-22T15:34:32.283Z"
   },
   {
    "duration": 84,
    "start_time": "2024-10-22T15:34:32.311Z"
   },
   {
    "duration": 84,
    "start_time": "2024-10-22T15:34:32.397Z"
   },
   {
    "duration": 47,
    "start_time": "2024-10-22T15:34:32.483Z"
   },
   {
    "duration": 13,
    "start_time": "2024-10-22T15:34:32.948Z"
   },
   {
    "duration": 6,
    "start_time": "2024-10-22T15:34:33.155Z"
   },
   {
    "duration": 25,
    "start_time": "2024-10-22T15:34:33.381Z"
   },
   {
    "duration": 12,
    "start_time": "2024-10-22T15:34:33.591Z"
   },
   {
    "duration": 3,
    "start_time": "2024-10-22T15:34:34.283Z"
   },
   {
    "duration": 8,
    "start_time": "2024-10-22T15:34:34.492Z"
   },
   {
    "duration": 12,
    "start_time": "2024-10-22T15:34:34.708Z"
   },
   {
    "duration": 8,
    "start_time": "2024-10-22T15:34:36.061Z"
   },
   {
    "duration": 3,
    "start_time": "2024-10-22T15:34:37.929Z"
   },
   {
    "duration": 9,
    "start_time": "2024-10-22T15:34:39.755Z"
   },
   {
    "duration": 8,
    "start_time": "2024-10-22T15:34:40.232Z"
   },
   {
    "duration": 10,
    "start_time": "2024-10-22T15:34:41.117Z"
   },
   {
    "duration": 891,
    "start_time": "2024-10-22T15:34:44.159Z"
   },
   {
    "duration": 799,
    "start_time": "2024-10-22T15:34:45.052Z"
   },
   {
    "duration": 6,
    "start_time": "2024-10-22T15:34:46.743Z"
   },
   {
    "duration": 3,
    "start_time": "2024-10-22T15:34:47.225Z"
   },
   {
    "duration": 38,
    "start_time": "2024-10-22T15:35:15.445Z"
   },
   {
    "duration": 38,
    "start_time": "2024-10-22T15:38:51.417Z"
   },
   {
    "duration": 42,
    "start_time": "2024-10-22T15:39:26.855Z"
   },
   {
    "duration": 4,
    "start_time": "2024-10-22T15:40:08.947Z"
   },
   {
    "duration": 4,
    "start_time": "2024-10-22T15:44:45.339Z"
   },
   {
    "duration": 6,
    "start_time": "2024-10-22T15:44:56.056Z"
   },
   {
    "duration": 1990,
    "start_time": "2024-10-22T15:51:51.265Z"
   },
   {
    "duration": 6,
    "start_time": "2024-10-22T15:51:53.258Z"
   },
   {
    "duration": 195,
    "start_time": "2024-10-22T15:51:53.758Z"
   },
   {
    "duration": 10,
    "start_time": "2024-10-22T15:53:22.786Z"
   },
   {
    "duration": 3,
    "start_time": "2024-10-22T15:53:38.655Z"
   },
   {
    "duration": 193,
    "start_time": "2024-10-22T16:00:29.559Z"
   },
   {
    "duration": 2,
    "start_time": "2024-10-22T16:00:53.448Z"
   },
   {
    "duration": 10,
    "start_time": "2024-10-22T16:00:57.806Z"
   },
   {
    "duration": 3,
    "start_time": "2024-10-22T16:00:58.195Z"
   },
   {
    "duration": 186,
    "start_time": "2024-10-22T16:00:59.014Z"
   },
   {
    "duration": 257,
    "start_time": "2024-10-22T16:01:05.736Z"
   },
   {
    "duration": 2,
    "start_time": "2024-10-22T16:01:08.121Z"
   },
   {
    "duration": 9,
    "start_time": "2024-10-22T16:01:19.421Z"
   },
   {
    "duration": 3,
    "start_time": "2024-10-22T16:01:19.964Z"
   },
   {
    "duration": 187,
    "start_time": "2024-10-22T16:01:20.676Z"
   },
   {
    "duration": 4,
    "start_time": "2024-10-22T16:03:38.113Z"
   },
   {
    "duration": 3,
    "start_time": "2024-10-22T16:03:54.598Z"
   },
   {
    "duration": 4,
    "start_time": "2024-10-22T16:04:01.043Z"
   },
   {
    "duration": 4,
    "start_time": "2024-10-22T16:04:01.374Z"
   },
   {
    "duration": 193,
    "start_time": "2024-10-22T16:05:05.449Z"
   },
   {
    "duration": 192,
    "start_time": "2024-10-22T16:07:47.439Z"
   },
   {
    "duration": 2,
    "start_time": "2024-10-22T16:08:40.945Z"
   },
   {
    "duration": 133,
    "start_time": "2024-10-22T16:12:03.814Z"
   },
   {
    "duration": 196,
    "start_time": "2024-10-22T16:14:30.064Z"
   },
   {
    "duration": 136,
    "start_time": "2024-10-22T16:14:34.838Z"
   },
   {
    "duration": 139,
    "start_time": "2024-10-22T16:16:06.855Z"
   },
   {
    "duration": 148,
    "start_time": "2024-10-22T16:19:32.290Z"
   },
   {
    "duration": 148,
    "start_time": "2024-10-22T16:24:50.146Z"
   },
   {
    "duration": 145,
    "start_time": "2024-10-22T16:25:32.044Z"
   },
   {
    "duration": 5,
    "start_time": "2024-10-22T16:26:15.018Z"
   },
   {
    "duration": 4,
    "start_time": "2024-10-22T16:26:15.507Z"
   },
   {
    "duration": 276,
    "start_time": "2024-10-22T16:26:17.185Z"
   },
   {
    "duration": 131,
    "start_time": "2024-10-22T16:26:20.781Z"
   },
   {
    "duration": 149,
    "start_time": "2024-10-22T16:26:24.968Z"
   },
   {
    "duration": 9,
    "start_time": "2024-10-22T16:26:47.446Z"
   },
   {
    "duration": 5,
    "start_time": "2024-10-22T16:26:47.888Z"
   },
   {
    "duration": 9,
    "start_time": "2024-10-22T16:31:55.919Z"
   },
   {
    "duration": 3,
    "start_time": "2024-10-22T16:31:56.508Z"
   },
   {
    "duration": 192,
    "start_time": "2024-10-22T16:31:57.313Z"
   },
   {
    "duration": 158,
    "start_time": "2024-10-22T16:35:24.933Z"
   },
   {
    "duration": 151,
    "start_time": "2024-10-22T16:39:33.013Z"
   },
   {
    "duration": 103,
    "start_time": "2024-10-22T16:41:44.800Z"
   },
   {
    "duration": 88,
    "start_time": "2024-10-22T16:42:14.188Z"
   },
   {
    "duration": 2,
    "start_time": "2024-10-22T16:42:29.622Z"
   },
   {
    "duration": 245,
    "start_time": "2024-10-22T16:42:29.911Z"
   },
   {
    "duration": 108,
    "start_time": "2024-10-22T16:42:30.159Z"
   },
   {
    "duration": 34,
    "start_time": "2024-10-22T16:42:30.283Z"
   },
   {
    "duration": 34,
    "start_time": "2024-10-22T16:42:30.471Z"
   },
   {
    "duration": 1754,
    "start_time": "2024-10-22T16:42:30.649Z"
   },
   {
    "duration": 680,
    "start_time": "2024-10-22T16:42:32.405Z"
   },
   {
    "duration": 10,
    "start_time": "2024-10-22T16:42:33.088Z"
   },
   {
    "duration": 18,
    "start_time": "2024-10-22T16:42:33.099Z"
   },
   {
    "duration": 7,
    "start_time": "2024-10-22T16:42:33.119Z"
   },
   {
    "duration": 8,
    "start_time": "2024-10-22T16:42:33.127Z"
   },
   {
    "duration": 90,
    "start_time": "2024-10-22T16:42:33.136Z"
   },
   {
    "duration": 6,
    "start_time": "2024-10-22T16:42:33.228Z"
   },
   {
    "duration": 4,
    "start_time": "2024-10-22T16:42:33.236Z"
   },
   {
    "duration": 95,
    "start_time": "2024-10-22T16:42:33.242Z"
   },
   {
    "duration": 78,
    "start_time": "2024-10-22T16:42:33.339Z"
   },
   {
    "duration": 36,
    "start_time": "2024-10-22T16:42:33.419Z"
   },
   {
    "duration": 12,
    "start_time": "2024-10-22T16:42:33.562Z"
   },
   {
    "duration": 6,
    "start_time": "2024-10-22T16:42:33.752Z"
   },
   {
    "duration": 24,
    "start_time": "2024-10-22T16:42:33.925Z"
   },
   {
    "duration": 11,
    "start_time": "2024-10-22T16:42:34.132Z"
   },
   {
    "duration": 2,
    "start_time": "2024-10-22T16:42:34.700Z"
   },
   {
    "duration": 9,
    "start_time": "2024-10-22T16:42:34.895Z"
   },
   {
    "duration": 8,
    "start_time": "2024-10-22T16:42:35.084Z"
   },
   {
    "duration": 9,
    "start_time": "2024-10-22T16:42:35.273Z"
   },
   {
    "duration": 2,
    "start_time": "2024-10-22T16:42:35.839Z"
   },
   {
    "duration": 8,
    "start_time": "2024-10-22T16:42:36.025Z"
   },
   {
    "duration": 9,
    "start_time": "2024-10-22T16:42:36.209Z"
   },
   {
    "duration": 8,
    "start_time": "2024-10-22T16:42:36.394Z"
   },
   {
    "duration": 852,
    "start_time": "2024-10-22T16:42:36.960Z"
   },
   {
    "duration": 817,
    "start_time": "2024-10-22T16:42:37.814Z"
   },
   {
    "duration": 7,
    "start_time": "2024-10-22T16:42:38.634Z"
   },
   {
    "duration": 4,
    "start_time": "2024-10-22T16:42:38.643Z"
   },
   {
    "duration": 5,
    "start_time": "2024-10-22T16:42:38.649Z"
   },
   {
    "duration": 5,
    "start_time": "2024-10-22T16:42:38.655Z"
   },
   {
    "duration": 4,
    "start_time": "2024-10-22T16:42:38.991Z"
   },
   {
    "duration": 30,
    "start_time": "2024-10-22T16:42:39.375Z"
   },
   {
    "duration": 7,
    "start_time": "2024-10-22T16:42:39.551Z"
   },
   {
    "duration": 62,
    "start_time": "2024-10-22T16:42:39.742Z"
   },
   {
    "duration": 28,
    "start_time": "2024-10-22T16:42:39.923Z"
   },
   {
    "duration": 5,
    "start_time": "2024-10-22T16:42:40.696Z"
   },
   {
    "duration": 4,
    "start_time": "2024-10-22T16:42:40.875Z"
   },
   {
    "duration": 191,
    "start_time": "2024-10-22T16:42:41.258Z"
   },
   {
    "duration": 138,
    "start_time": "2024-10-22T16:42:41.843Z"
   },
   {
    "duration": 143,
    "start_time": "2024-10-22T16:42:42.421Z"
   },
   {
    "duration": 10,
    "start_time": "2024-10-22T16:42:43.169Z"
   },
   {
    "duration": 3,
    "start_time": "2024-10-22T16:42:43.357Z"
   },
   {
    "duration": 179,
    "start_time": "2024-10-22T16:42:43.550Z"
   },
   {
    "duration": 156,
    "start_time": "2024-10-22T16:42:44.124Z"
   },
   {
    "duration": 87,
    "start_time": "2024-10-22T16:42:44.721Z"
   },
   {
    "duration": 613,
    "start_time": "2024-10-22T16:54:19.512Z"
   },
   {
    "duration": 493,
    "start_time": "2024-10-22T16:55:22.224Z"
   },
   {
    "duration": 522,
    "start_time": "2024-10-22T16:56:47.959Z"
   },
   {
    "duration": 541,
    "start_time": "2024-10-22T16:56:55.939Z"
   },
   {
    "duration": 607,
    "start_time": "2024-10-22T16:57:04.725Z"
   },
   {
    "duration": 780,
    "start_time": "2024-10-22T16:58:54.015Z"
   },
   {
    "duration": 800,
    "start_time": "2024-10-22T16:59:03.248Z"
   },
   {
    "duration": 513,
    "start_time": "2024-10-22T16:59:22.614Z"
   },
   {
    "duration": 509,
    "start_time": "2024-10-22T17:00:06.394Z"
   },
   {
    "duration": 546,
    "start_time": "2024-10-22T17:00:27.401Z"
   },
   {
    "duration": 782,
    "start_time": "2024-10-22T17:00:38.722Z"
   },
   {
    "duration": 1219,
    "start_time": "2024-10-22T17:00:49.396Z"
   },
   {
    "duration": 619,
    "start_time": "2024-10-22T17:00:58.913Z"
   },
   {
    "duration": 518,
    "start_time": "2024-10-22T17:01:13.664Z"
   },
   {
    "duration": 494,
    "start_time": "2024-10-22T17:04:02.109Z"
   },
   {
    "duration": 107,
    "start_time": "2024-10-22T17:08:28.537Z"
   },
   {
    "duration": 42,
    "start_time": "2024-10-22T17:08:29.103Z"
   },
   {
    "duration": 3,
    "start_time": "2024-10-22T17:08:29.637Z"
   },
   {
    "duration": 3,
    "start_time": "2024-10-22T17:08:30.237Z"
   },
   {
    "duration": 5,
    "start_time": "2024-10-22T17:08:30.833Z"
   },
   {
    "duration": 6,
    "start_time": "2024-10-22T17:08:31.469Z"
   },
   {
    "duration": 2,
    "start_time": "2024-10-22T17:08:43.054Z"
   },
   {
    "duration": 80,
    "start_time": "2024-10-22T17:11:51.032Z"
   },
   {
    "duration": 95,
    "start_time": "2024-10-22T17:11:51.510Z"
   },
   {
    "duration": 9,
    "start_time": "2024-10-22T17:11:52.297Z"
   },
   {
    "duration": 5,
    "start_time": "2024-10-22T17:11:52.790Z"
   },
   {
    "duration": 11,
    "start_time": "2024-10-22T17:11:53.330Z"
   },
   {
    "duration": 6,
    "start_time": "2024-10-22T17:11:53.812Z"
   },
   {
    "duration": 6,
    "start_time": "2024-10-22T17:13:30.887Z"
   },
   {
    "duration": 253,
    "start_time": "2024-10-22T17:14:52.318Z"
   },
   {
    "duration": 93,
    "start_time": "2024-10-22T17:15:06.141Z"
   },
   {
    "duration": 15,
    "start_time": "2024-10-22T17:15:06.833Z"
   },
   {
    "duration": 13,
    "start_time": "2024-10-22T17:15:07.478Z"
   },
   {
    "duration": 15,
    "start_time": "2024-10-22T17:15:08.013Z"
   },
   {
    "duration": 2,
    "start_time": "2024-10-22T17:15:08.556Z"
   },
   {
    "duration": 45,
    "start_time": "2024-10-22T17:15:25.069Z"
   },
   {
    "duration": 830,
    "start_time": "2024-10-22T17:16:08.134Z"
   },
   {
    "duration": 527,
    "start_time": "2024-10-22T17:19:35.857Z"
   },
   {
    "duration": 85,
    "start_time": "2024-10-22T17:19:36.464Z"
   },
   {
    "duration": 163,
    "start_time": "2024-10-22T17:19:36.906Z"
   },
   {
    "duration": 10,
    "start_time": "2024-10-22T17:19:37.237Z"
   },
   {
    "duration": 4,
    "start_time": "2024-10-22T17:19:37.582Z"
   },
   {
    "duration": 5,
    "start_time": "2024-10-22T17:19:37.813Z"
   },
   {
    "duration": 23,
    "start_time": "2024-10-22T17:23:19.002Z"
   },
   {
    "duration": 7,
    "start_time": "2024-10-22T17:23:19.401Z"
   },
   {
    "duration": 3,
    "start_time": "2024-10-22T17:23:19.773Z"
   },
   {
    "duration": 3,
    "start_time": "2024-10-22T17:23:20.094Z"
   },
   {
    "duration": 4,
    "start_time": "2024-10-22T17:23:20.284Z"
   },
   {
    "duration": 6,
    "start_time": "2024-10-22T17:23:20.649Z"
   },
   {
    "duration": 2,
    "start_time": "2024-10-22T17:23:25.912Z"
   },
   {
    "duration": 2,
    "start_time": "2024-10-22T17:23:42.605Z"
   },
   {
    "duration": 214,
    "start_time": "2024-10-22T17:23:42.816Z"
   },
   {
    "duration": 106,
    "start_time": "2024-10-22T17:23:43.032Z"
   },
   {
    "duration": 33,
    "start_time": "2024-10-22T17:23:43.163Z"
   },
   {
    "duration": 33,
    "start_time": "2024-10-22T17:23:43.331Z"
   },
   {
    "duration": 1625,
    "start_time": "2024-10-22T17:23:43.506Z"
   },
   {
    "duration": 682,
    "start_time": "2024-10-22T17:23:45.133Z"
   },
   {
    "duration": 9,
    "start_time": "2024-10-22T17:23:45.817Z"
   },
   {
    "duration": 10,
    "start_time": "2024-10-22T17:23:45.828Z"
   },
   {
    "duration": 7,
    "start_time": "2024-10-22T17:23:45.840Z"
   },
   {
    "duration": 7,
    "start_time": "2024-10-22T17:23:45.849Z"
   },
   {
    "duration": 96,
    "start_time": "2024-10-22T17:23:45.859Z"
   },
   {
    "duration": 6,
    "start_time": "2024-10-22T17:23:45.956Z"
   },
   {
    "duration": 4,
    "start_time": "2024-10-22T17:23:45.964Z"
   },
   {
    "duration": 96,
    "start_time": "2024-10-22T17:23:45.971Z"
   },
   {
    "duration": 85,
    "start_time": "2024-10-22T17:23:46.071Z"
   },
   {
    "duration": 34,
    "start_time": "2024-10-22T17:23:46.158Z"
   },
   {
    "duration": 13,
    "start_time": "2024-10-22T17:23:46.365Z"
   },
   {
    "duration": 5,
    "start_time": "2024-10-22T17:23:46.541Z"
   },
   {
    "duration": 25,
    "start_time": "2024-10-22T17:23:46.740Z"
   },
   {
    "duration": 11,
    "start_time": "2024-10-22T17:23:46.909Z"
   },
   {
    "duration": 3,
    "start_time": "2024-10-22T17:23:47.468Z"
   },
   {
    "duration": 8,
    "start_time": "2024-10-22T17:23:47.648Z"
   },
   {
    "duration": 9,
    "start_time": "2024-10-22T17:23:47.844Z"
   },
   {
    "duration": 13,
    "start_time": "2024-10-22T17:23:48.022Z"
   },
   {
    "duration": 2,
    "start_time": "2024-10-22T17:23:48.601Z"
   },
   {
    "duration": 8,
    "start_time": "2024-10-22T17:23:48.787Z"
   },
   {
    "duration": 8,
    "start_time": "2024-10-22T17:23:48.972Z"
   },
   {
    "duration": 9,
    "start_time": "2024-10-22T17:23:49.165Z"
   },
   {
    "duration": 825,
    "start_time": "2024-10-22T17:23:49.724Z"
   },
   {
    "duration": 719,
    "start_time": "2024-10-22T17:23:50.552Z"
   },
   {
    "duration": 6,
    "start_time": "2024-10-22T17:23:51.273Z"
   },
   {
    "duration": 4,
    "start_time": "2024-10-22T17:23:51.281Z"
   },
   {
    "duration": 25,
    "start_time": "2024-10-22T17:23:51.287Z"
   },
   {
    "duration": 5,
    "start_time": "2024-10-22T17:23:51.314Z"
   },
   {
    "duration": 5,
    "start_time": "2024-10-22T17:23:51.777Z"
   },
   {
    "duration": 31,
    "start_time": "2024-10-22T17:23:52.134Z"
   },
   {
    "duration": 7,
    "start_time": "2024-10-22T17:23:52.311Z"
   },
   {
    "duration": 61,
    "start_time": "2024-10-22T17:23:52.493Z"
   },
   {
    "duration": 25,
    "start_time": "2024-10-22T17:23:52.675Z"
   },
   {
    "duration": 5,
    "start_time": "2024-10-22T17:23:53.438Z"
   },
   {
    "duration": 4,
    "start_time": "2024-10-22T17:23:53.614Z"
   },
   {
    "duration": 189,
    "start_time": "2024-10-22T17:23:54.001Z"
   },
   {
    "duration": 146,
    "start_time": "2024-10-22T17:23:54.558Z"
   },
   {
    "duration": 147,
    "start_time": "2024-10-22T17:23:55.126Z"
   },
   {
    "duration": 9,
    "start_time": "2024-10-22T17:23:55.886Z"
   },
   {
    "duration": 3,
    "start_time": "2024-10-22T17:23:56.071Z"
   },
   {
    "duration": 182,
    "start_time": "2024-10-22T17:23:56.255Z"
   },
   {
    "duration": 154,
    "start_time": "2024-10-22T17:23:56.829Z"
   },
   {
    "duration": 80,
    "start_time": "2024-10-22T17:23:57.405Z"
   },
   {
    "duration": 454,
    "start_time": "2024-10-22T17:23:58.179Z"
   },
   {
    "duration": 104,
    "start_time": "2024-10-22T17:23:58.748Z"
   },
   {
    "duration": 42,
    "start_time": "2024-10-22T17:23:58.944Z"
   },
   {
    "duration": 2,
    "start_time": "2024-10-22T17:23:59.136Z"
   },
   {
    "duration": 3,
    "start_time": "2024-10-22T17:23:59.323Z"
   },
   {
    "duration": 5,
    "start_time": "2024-10-22T17:23:59.507Z"
   },
   {
    "duration": 6,
    "start_time": "2024-10-22T17:23:59.705Z"
   },
   {
    "duration": 2,
    "start_time": "2024-10-22T17:23:59.897Z"
   },
   {
    "duration": 78,
    "start_time": "2024-10-22T17:24:00.485Z"
   },
   {
    "duration": 95,
    "start_time": "2024-10-22T17:24:00.670Z"
   },
   {
    "duration": 10,
    "start_time": "2024-10-22T17:24:00.866Z"
   },
   {
    "duration": 4,
    "start_time": "2024-10-22T17:24:01.062Z"
   },
   {
    "duration": 12,
    "start_time": "2024-10-22T17:24:01.259Z"
   },
   {
    "duration": 6,
    "start_time": "2024-10-22T17:24:01.468Z"
   },
   {
    "duration": 2,
    "start_time": "2024-10-22T17:24:01.652Z"
   },
   {
    "duration": 537,
    "start_time": "2024-10-22T17:24:02.045Z"
   },
   {
    "duration": 98,
    "start_time": "2024-10-22T17:24:02.586Z"
   },
   {
    "duration": 183,
    "start_time": "2024-10-22T17:24:02.686Z"
   },
   {
    "duration": 9,
    "start_time": "2024-10-22T17:24:02.871Z"
   },
   {
    "duration": 4,
    "start_time": "2024-10-22T17:24:02.881Z"
   },
   {
    "duration": 5,
    "start_time": "2024-10-22T17:24:03.032Z"
   },
   {
    "duration": 3,
    "start_time": "2024-10-22T17:24:03.228Z"
   },
   {
    "duration": 22,
    "start_time": "2024-10-22T17:24:03.636Z"
   },
   {
    "duration": 7,
    "start_time": "2024-10-22T17:24:03.845Z"
   },
   {
    "duration": 2,
    "start_time": "2024-10-22T17:24:04.013Z"
   },
   {
    "duration": 4,
    "start_time": "2024-10-22T17:24:04.236Z"
   },
   {
    "duration": 7,
    "start_time": "2024-10-22T17:24:04.403Z"
   },
   {
    "duration": 6,
    "start_time": "2024-10-22T17:24:04.591Z"
   },
   {
    "duration": 2,
    "start_time": "2024-10-22T17:24:04.802Z"
   },
   {
    "duration": 318,
    "start_time": "2024-10-22T19:47:37.809Z"
   },
   {
    "duration": 262,
    "start_time": "2024-10-22T19:47:38.130Z"
   },
   {
    "duration": 127,
    "start_time": "2024-10-22T19:47:38.394Z"
   },
   {
    "duration": 48,
    "start_time": "2024-10-22T19:47:38.522Z"
   },
   {
    "duration": 34,
    "start_time": "2024-10-22T19:47:38.573Z"
   },
   {
    "duration": 1893,
    "start_time": "2024-10-22T19:47:38.609Z"
   },
   {
    "duration": 705,
    "start_time": "2024-10-22T19:47:40.503Z"
   },
   {
    "duration": 11,
    "start_time": "2024-10-22T19:47:41.212Z"
   },
   {
    "duration": 11,
    "start_time": "2024-10-22T19:47:41.226Z"
   },
   {
    "duration": 197,
    "start_time": "2024-10-22T19:47:41.238Z"
   },
   {
    "duration": 0,
    "start_time": "2024-10-22T19:47:41.440Z"
   },
   {
    "duration": 0,
    "start_time": "2024-10-22T19:47:41.442Z"
   },
   {
    "duration": 0,
    "start_time": "2024-10-22T19:47:41.443Z"
   },
   {
    "duration": 0,
    "start_time": "2024-10-22T19:47:41.445Z"
   },
   {
    "duration": 0,
    "start_time": "2024-10-22T19:47:41.446Z"
   },
   {
    "duration": 0,
    "start_time": "2024-10-22T19:47:41.448Z"
   },
   {
    "duration": 0,
    "start_time": "2024-10-22T19:47:41.449Z"
   },
   {
    "duration": 0,
    "start_time": "2024-10-22T19:47:41.451Z"
   },
   {
    "duration": 0,
    "start_time": "2024-10-22T19:47:41.470Z"
   },
   {
    "duration": 0,
    "start_time": "2024-10-22T19:47:41.471Z"
   },
   {
    "duration": 0,
    "start_time": "2024-10-22T19:47:41.472Z"
   },
   {
    "duration": 0,
    "start_time": "2024-10-22T19:47:41.473Z"
   },
   {
    "duration": 0,
    "start_time": "2024-10-22T19:47:41.475Z"
   },
   {
    "duration": 0,
    "start_time": "2024-10-22T19:47:41.476Z"
   },
   {
    "duration": 1,
    "start_time": "2024-10-22T19:47:41.476Z"
   },
   {
    "duration": 0,
    "start_time": "2024-10-22T19:47:41.478Z"
   },
   {
    "duration": 0,
    "start_time": "2024-10-22T19:47:41.479Z"
   },
   {
    "duration": 0,
    "start_time": "2024-10-22T19:47:41.480Z"
   },
   {
    "duration": 0,
    "start_time": "2024-10-22T19:47:41.480Z"
   },
   {
    "duration": 0,
    "start_time": "2024-10-22T19:47:41.482Z"
   },
   {
    "duration": 0,
    "start_time": "2024-10-22T19:47:41.485Z"
   },
   {
    "duration": 0,
    "start_time": "2024-10-22T19:47:41.486Z"
   },
   {
    "duration": 0,
    "start_time": "2024-10-22T19:47:41.487Z"
   },
   {
    "duration": 0,
    "start_time": "2024-10-22T19:47:41.488Z"
   },
   {
    "duration": 0,
    "start_time": "2024-10-22T19:47:41.489Z"
   },
   {
    "duration": 0,
    "start_time": "2024-10-22T19:47:41.491Z"
   },
   {
    "duration": 0,
    "start_time": "2024-10-22T19:47:41.492Z"
   },
   {
    "duration": 0,
    "start_time": "2024-10-22T19:47:41.493Z"
   },
   {
    "duration": 0,
    "start_time": "2024-10-22T19:47:41.494Z"
   },
   {
    "duration": 0,
    "start_time": "2024-10-22T19:47:41.495Z"
   },
   {
    "duration": 0,
    "start_time": "2024-10-22T19:47:41.496Z"
   },
   {
    "duration": 0,
    "start_time": "2024-10-22T19:47:41.497Z"
   },
   {
    "duration": 0,
    "start_time": "2024-10-22T19:47:41.498Z"
   },
   {
    "duration": 0,
    "start_time": "2024-10-22T19:47:41.499Z"
   },
   {
    "duration": 0,
    "start_time": "2024-10-22T19:47:41.500Z"
   },
   {
    "duration": 0,
    "start_time": "2024-10-22T19:47:41.501Z"
   },
   {
    "duration": 0,
    "start_time": "2024-10-22T19:47:41.503Z"
   },
   {
    "duration": 0,
    "start_time": "2024-10-22T19:47:41.503Z"
   },
   {
    "duration": 0,
    "start_time": "2024-10-22T19:47:41.504Z"
   },
   {
    "duration": 0,
    "start_time": "2024-10-22T19:47:41.505Z"
   },
   {
    "duration": 0,
    "start_time": "2024-10-22T19:47:41.506Z"
   },
   {
    "duration": 0,
    "start_time": "2024-10-22T19:47:41.508Z"
   },
   {
    "duration": 0,
    "start_time": "2024-10-22T19:47:41.508Z"
   },
   {
    "duration": 0,
    "start_time": "2024-10-22T19:47:41.570Z"
   },
   {
    "duration": 0,
    "start_time": "2024-10-22T19:47:41.572Z"
   },
   {
    "duration": 0,
    "start_time": "2024-10-22T19:47:41.575Z"
   },
   {
    "duration": 0,
    "start_time": "2024-10-22T19:47:41.576Z"
   },
   {
    "duration": 0,
    "start_time": "2024-10-22T19:47:41.577Z"
   },
   {
    "duration": 0,
    "start_time": "2024-10-22T19:47:41.578Z"
   },
   {
    "duration": 0,
    "start_time": "2024-10-22T19:47:41.578Z"
   },
   {
    "duration": 0,
    "start_time": "2024-10-22T19:47:41.580Z"
   },
   {
    "duration": 0,
    "start_time": "2024-10-22T19:47:41.581Z"
   },
   {
    "duration": 0,
    "start_time": "2024-10-22T19:47:41.583Z"
   },
   {
    "duration": 0,
    "start_time": "2024-10-22T19:47:41.584Z"
   },
   {
    "duration": 0,
    "start_time": "2024-10-22T19:47:41.586Z"
   },
   {
    "duration": 0,
    "start_time": "2024-10-22T19:47:41.588Z"
   },
   {
    "duration": 0,
    "start_time": "2024-10-22T19:47:41.590Z"
   },
   {
    "duration": 0,
    "start_time": "2024-10-22T19:47:41.591Z"
   },
   {
    "duration": 0,
    "start_time": "2024-10-22T19:47:41.593Z"
   },
   {
    "duration": 1,
    "start_time": "2024-10-22T19:47:41.594Z"
   },
   {
    "duration": 0,
    "start_time": "2024-10-22T19:47:41.596Z"
   },
   {
    "duration": 0,
    "start_time": "2024-10-22T19:47:41.597Z"
   },
   {
    "duration": 0,
    "start_time": "2024-10-22T19:47:41.599Z"
   },
   {
    "duration": 0,
    "start_time": "2024-10-22T19:47:41.600Z"
   },
   {
    "duration": 0,
    "start_time": "2024-10-22T19:47:41.602Z"
   },
   {
    "duration": 0,
    "start_time": "2024-10-22T19:47:41.604Z"
   },
   {
    "duration": 0,
    "start_time": "2024-10-22T19:47:41.605Z"
   },
   {
    "duration": 0,
    "start_time": "2024-10-22T19:47:41.606Z"
   },
   {
    "duration": 0,
    "start_time": "2024-10-22T19:47:41.608Z"
   },
   {
    "duration": 88,
    "start_time": "2024-10-22T19:48:54.703Z"
   },
   {
    "duration": 6,
    "start_time": "2024-10-22T19:48:55.441Z"
   },
   {
    "duration": 57,
    "start_time": "2024-10-22T19:48:55.768Z"
   },
   {
    "duration": 96,
    "start_time": "2024-10-22T19:48:56.081Z"
   },
   {
    "duration": 100,
    "start_time": "2024-10-22T19:48:56.279Z"
   },
   {
    "duration": 54,
    "start_time": "2024-10-22T19:48:56.576Z"
   },
   {
    "duration": 15,
    "start_time": "2024-10-22T19:48:57.220Z"
   },
   {
    "duration": 6,
    "start_time": "2024-10-22T19:48:57.409Z"
   },
   {
    "duration": 25,
    "start_time": "2024-10-22T19:48:57.623Z"
   },
   {
    "duration": 11,
    "start_time": "2024-10-22T19:48:57.857Z"
   },
   {
    "duration": 2,
    "start_time": "2024-10-22T19:48:58.481Z"
   },
   {
    "duration": 16,
    "start_time": "2024-10-22T19:48:58.658Z"
   },
   {
    "duration": 8,
    "start_time": "2024-10-22T19:48:58.843Z"
   },
   {
    "duration": 8,
    "start_time": "2024-10-22T19:48:59.027Z"
   },
   {
    "duration": 3,
    "start_time": "2024-10-22T19:49:00.053Z"
   },
   {
    "duration": 8,
    "start_time": "2024-10-22T19:49:00.466Z"
   },
   {
    "duration": 8,
    "start_time": "2024-10-22T19:49:00.688Z"
   },
   {
    "duration": 9,
    "start_time": "2024-10-22T19:49:00.911Z"
   },
   {
    "duration": 892,
    "start_time": "2024-10-22T19:49:01.545Z"
   },
   {
    "duration": 808,
    "start_time": "2024-10-22T19:49:02.440Z"
   },
   {
    "duration": 7,
    "start_time": "2024-10-22T19:49:03.857Z"
   },
   {
    "duration": 4,
    "start_time": "2024-10-22T19:49:04.047Z"
   },
   {
    "duration": 5,
    "start_time": "2024-10-22T19:49:04.258Z"
   },
   {
    "duration": 6,
    "start_time": "2024-10-22T19:49:04.514Z"
   },
   {
    "duration": 6,
    "start_time": "2024-10-22T19:49:05.074Z"
   },
   {
    "duration": 30,
    "start_time": "2024-10-22T19:49:05.463Z"
   },
   {
    "duration": 7,
    "start_time": "2024-10-22T19:49:05.671Z"
   },
   {
    "duration": 62,
    "start_time": "2024-10-22T19:49:05.879Z"
   },
   {
    "duration": 26,
    "start_time": "2024-10-22T19:49:06.076Z"
   },
   {
    "duration": 4,
    "start_time": "2024-10-22T19:49:06.859Z"
   },
   {
    "duration": 4,
    "start_time": "2024-10-22T19:49:07.028Z"
   },
   {
    "duration": 2166,
    "start_time": "2024-10-22T19:49:07.407Z"
   },
   {
    "duration": 139,
    "start_time": "2024-10-22T19:49:09.575Z"
   },
   {
    "duration": 176,
    "start_time": "2024-10-22T19:49:09.716Z"
   },
   {
    "duration": 10,
    "start_time": "2024-10-22T19:49:09.895Z"
   },
   {
    "duration": 3,
    "start_time": "2024-10-22T19:49:09.907Z"
   },
   {
    "duration": 203,
    "start_time": "2024-10-22T19:49:09.911Z"
   },
   {
    "duration": 155,
    "start_time": "2024-10-22T19:49:10.528Z"
   },
   {
    "duration": 87,
    "start_time": "2024-10-22T19:49:11.218Z"
   },
   {
    "duration": 548,
    "start_time": "2024-10-22T19:49:11.960Z"
   },
   {
    "duration": 105,
    "start_time": "2024-10-22T19:49:12.524Z"
   },
   {
    "duration": 42,
    "start_time": "2024-10-22T19:49:12.701Z"
   },
   {
    "duration": 3,
    "start_time": "2024-10-22T19:49:12.886Z"
   },
   {
    "duration": 4,
    "start_time": "2024-10-22T19:49:13.074Z"
   },
   {
    "duration": 4,
    "start_time": "2024-10-22T19:49:13.270Z"
   },
   {
    "duration": 5,
    "start_time": "2024-10-22T19:49:13.448Z"
   },
   {
    "duration": 2,
    "start_time": "2024-10-22T19:49:13.626Z"
   },
   {
    "duration": 82,
    "start_time": "2024-10-22T19:49:14.218Z"
   },
   {
    "duration": 97,
    "start_time": "2024-10-22T19:49:14.406Z"
   },
   {
    "duration": 9,
    "start_time": "2024-10-22T19:49:14.581Z"
   },
   {
    "duration": 4,
    "start_time": "2024-10-22T19:49:14.768Z"
   },
   {
    "duration": 13,
    "start_time": "2024-10-22T19:49:14.950Z"
   },
   {
    "duration": 6,
    "start_time": "2024-10-22T19:49:15.132Z"
   },
   {
    "duration": 2,
    "start_time": "2024-10-22T19:49:15.329Z"
   },
   {
    "duration": 580,
    "start_time": "2024-10-22T19:49:15.707Z"
   },
   {
    "duration": 111,
    "start_time": "2024-10-22T19:49:16.289Z"
   },
   {
    "duration": 180,
    "start_time": "2024-10-22T19:49:16.402Z"
   },
   {
    "duration": 9,
    "start_time": "2024-10-22T19:49:16.585Z"
   },
   {
    "duration": 4,
    "start_time": "2024-10-22T19:49:16.596Z"
   },
   {
    "duration": 5,
    "start_time": "2024-10-22T19:49:16.699Z"
   },
   {
    "duration": 2,
    "start_time": "2024-10-22T19:49:16.738Z"
   },
   {
    "duration": 24,
    "start_time": "2024-10-22T19:49:17.224Z"
   },
   {
    "duration": 8,
    "start_time": "2024-10-22T19:49:17.420Z"
   },
   {
    "duration": 2,
    "start_time": "2024-10-22T19:49:17.596Z"
   },
   {
    "duration": 3,
    "start_time": "2024-10-22T19:49:17.759Z"
   },
   {
    "duration": 5,
    "start_time": "2024-10-22T19:49:17.936Z"
   },
   {
    "duration": 5,
    "start_time": "2024-10-22T19:49:18.105Z"
   },
   {
    "duration": 172,
    "start_time": "2024-10-25T01:33:35.081Z"
   },
   {
    "duration": 309,
    "start_time": "2024-10-25T01:33:50.455Z"
   },
   {
    "duration": 158,
    "start_time": "2024-10-25T01:33:52.287Z"
   },
   {
    "duration": 56,
    "start_time": "2024-10-25T01:33:58.365Z"
   },
   {
    "duration": 777,
    "start_time": "2024-10-25T01:34:02.187Z"
   },
   {
    "duration": 101,
    "start_time": "2024-10-25T01:34:08.704Z"
   },
   {
    "duration": 7,
    "start_time": "2024-10-25T01:34:18.327Z"
   },
   {
    "duration": 120,
    "start_time": "2024-10-25T01:34:19.271Z"
   },
   {
    "duration": 92,
    "start_time": "2024-10-25T01:34:20.155Z"
   },
   {
    "duration": 57,
    "start_time": "2024-10-25T01:34:20.993Z"
   },
   {
    "duration": 16,
    "start_time": "2024-10-25T01:34:26.289Z"
   },
   {
    "duration": 6,
    "start_time": "2024-10-25T01:34:26.859Z"
   },
   {
    "duration": 27,
    "start_time": "2024-10-25T01:34:27.981Z"
   },
   {
    "duration": 14,
    "start_time": "2024-10-25T01:34:31.321Z"
   },
   {
    "duration": 7,
    "start_time": "2024-10-25T01:35:09.645Z"
   },
   {
    "duration": 6,
    "start_time": "2024-10-25T01:35:29.858Z"
   },
   {
    "duration": 3,
    "start_time": "2024-10-25T01:36:41.074Z"
   },
   {
    "duration": 6,
    "start_time": "2024-10-25T01:37:02.710Z"
   },
   {
    "duration": 7,
    "start_time": "2024-10-25T01:37:24.002Z"
   },
   {
    "duration": 858,
    "start_time": "2024-10-25T01:37:33.453Z"
   },
   {
    "duration": 864,
    "start_time": "2024-10-25T01:37:35.470Z"
   },
   {
    "duration": 7,
    "start_time": "2024-10-25T01:37:42.097Z"
   },
   {
    "duration": 3,
    "start_time": "2024-10-25T01:37:43.446Z"
   },
   {
    "duration": 6,
    "start_time": "2024-10-25T01:37:48.363Z"
   },
   {
    "duration": 8,
    "start_time": "2024-10-25T01:37:52.580Z"
   },
   {
    "duration": 5,
    "start_time": "2024-10-25T01:37:57.463Z"
   },
   {
    "duration": 34,
    "start_time": "2024-10-25T01:38:00.148Z"
   },
   {
    "duration": 7,
    "start_time": "2024-10-25T01:38:02.780Z"
   },
   {
    "duration": 63,
    "start_time": "2024-10-25T01:38:05.195Z"
   },
   {
    "duration": 25,
    "start_time": "2024-10-25T01:38:06.107Z"
   },
   {
    "duration": 4,
    "start_time": "2024-10-25T01:38:10.959Z"
   },
   {
    "duration": 4,
    "start_time": "2024-10-25T01:38:11.883Z"
   },
   {
    "duration": 2217,
    "start_time": "2024-10-25T01:38:15.911Z"
   },
   {
    "duration": 146,
    "start_time": "2024-10-25T01:38:18.131Z"
   },
   {
    "duration": 147,
    "start_time": "2024-10-25T01:38:20.324Z"
   },
   {
    "duration": 10,
    "start_time": "2024-10-25T01:38:22.648Z"
   },
   {
    "duration": 4,
    "start_time": "2024-10-25T01:38:24.183Z"
   },
   {
    "duration": 203,
    "start_time": "2024-10-25T01:38:24.820Z"
   },
   {
    "duration": 166,
    "start_time": "2024-10-25T01:38:27.420Z"
   },
   {
    "duration": 107,
    "start_time": "2024-10-25T01:38:29.459Z"
   },
   {
    "duration": 486,
    "start_time": "2024-10-25T01:38:32.391Z"
   },
   {
    "duration": 108,
    "start_time": "2024-10-25T01:38:34.239Z"
   },
   {
    "duration": 53,
    "start_time": "2024-10-25T01:38:34.800Z"
   },
   {
    "duration": 2,
    "start_time": "2024-10-25T01:38:35.156Z"
   },
   {
    "duration": 4,
    "start_time": "2024-10-25T01:38:35.640Z"
   },
   {
    "duration": 4,
    "start_time": "2024-10-25T01:38:36.236Z"
   },
   {
    "duration": 5,
    "start_time": "2024-10-25T01:38:36.727Z"
   },
   {
    "duration": 2,
    "start_time": "2024-10-25T01:38:37.268Z"
   },
   {
    "duration": 83,
    "start_time": "2024-10-25T01:38:38.684Z"
   },
   {
    "duration": 101,
    "start_time": "2024-10-25T01:38:38.884Z"
   },
   {
    "duration": 10,
    "start_time": "2024-10-25T01:38:39.084Z"
   },
   {
    "duration": 4,
    "start_time": "2024-10-25T01:38:39.273Z"
   },
   {
    "duration": 15,
    "start_time": "2024-10-25T01:38:39.467Z"
   },
   {
    "duration": 7,
    "start_time": "2024-10-25T01:38:40.005Z"
   },
   {
    "duration": 2,
    "start_time": "2024-10-25T01:38:40.541Z"
   },
   {
    "duration": 598,
    "start_time": "2024-10-25T01:38:41.259Z"
   },
   {
    "duration": 105,
    "start_time": "2024-10-25T01:38:41.859Z"
   },
   {
    "duration": 179,
    "start_time": "2024-10-25T01:38:41.966Z"
   },
   {
    "duration": 9,
    "start_time": "2024-10-25T01:38:42.147Z"
   },
   {
    "duration": 4,
    "start_time": "2024-10-25T01:38:42.158Z"
   },
   {
    "duration": 5,
    "start_time": "2024-10-25T01:38:42.267Z"
   },
   {
    "duration": 2,
    "start_time": "2024-10-25T01:38:42.495Z"
   },
   {
    "duration": 25,
    "start_time": "2024-10-25T01:38:43.297Z"
   },
   {
    "duration": 11,
    "start_time": "2024-10-25T01:38:43.519Z"
   },
   {
    "duration": 2,
    "start_time": "2024-10-25T01:38:43.716Z"
   },
   {
    "duration": 4,
    "start_time": "2024-10-25T01:38:43.883Z"
   },
   {
    "duration": 5,
    "start_time": "2024-10-25T01:38:44.073Z"
   },
   {
    "duration": 6,
    "start_time": "2024-10-25T01:38:44.263Z"
   },
   {
    "duration": 3,
    "start_time": "2024-10-25T01:38:44.459Z"
   },
   {
    "duration": 201,
    "start_time": "2024-10-25T01:41:34.322Z"
   },
   {
    "duration": 141,
    "start_time": "2024-10-25T01:42:12.804Z"
   },
   {
    "duration": 206,
    "start_time": "2024-10-25T01:43:00.685Z"
   },
   {
    "duration": 10,
    "start_time": "2024-10-25T01:46:24.431Z"
   },
   {
    "duration": 3,
    "start_time": "2024-10-25T01:46:24.837Z"
   },
   {
    "duration": 183,
    "start_time": "2024-10-25T01:46:25.873Z"
   },
   {
    "duration": 162,
    "start_time": "2024-10-25T01:46:54.761Z"
   },
   {
    "duration": 97,
    "start_time": "2024-10-25T01:47:01.625Z"
   },
   {
    "duration": 515,
    "start_time": "2024-10-25T01:47:58.396Z"
   },
   {
    "duration": 57,
    "start_time": "2024-10-25T01:48:03.676Z"
   },
   {
    "duration": 43,
    "start_time": "2024-10-25T01:48:03.849Z"
   },
   {
    "duration": 2,
    "start_time": "2024-10-25T01:48:04.032Z"
   },
   {
    "duration": 4,
    "start_time": "2024-10-25T01:48:04.199Z"
   },
   {
    "duration": 6,
    "start_time": "2024-10-25T01:48:04.383Z"
   },
   {
    "duration": 7,
    "start_time": "2024-10-25T01:48:04.564Z"
   },
   {
    "duration": 2,
    "start_time": "2024-10-25T01:48:09.612Z"
   },
   {
    "duration": 87,
    "start_time": "2024-10-25T01:48:10.800Z"
   },
   {
    "duration": 99,
    "start_time": "2024-10-25T01:48:10.986Z"
   },
   {
    "duration": 9,
    "start_time": "2024-10-25T01:48:11.147Z"
   },
   {
    "duration": 4,
    "start_time": "2024-10-25T01:48:11.328Z"
   },
   {
    "duration": 11,
    "start_time": "2024-10-25T01:48:11.503Z"
   },
   {
    "duration": 5,
    "start_time": "2024-10-25T01:48:11.683Z"
   },
   {
    "duration": 2,
    "start_time": "2024-10-25T01:48:12.352Z"
   },
   {
    "duration": 523,
    "start_time": "2024-10-25T01:48:14.018Z"
   },
   {
    "duration": 104,
    "start_time": "2024-10-25T01:48:14.543Z"
   },
   {
    "duration": 186,
    "start_time": "2024-10-25T01:48:14.649Z"
   },
   {
    "duration": 9,
    "start_time": "2024-10-25T01:48:14.839Z"
   },
   {
    "duration": 5,
    "start_time": "2024-10-25T01:48:14.849Z"
   },
   {
    "duration": 6,
    "start_time": "2024-10-25T01:48:15.374Z"
   },
   {
    "duration": 5,
    "start_time": "2024-10-25T01:48:16.011Z"
   },
   {
    "duration": 21,
    "start_time": "2024-10-25T01:48:16.822Z"
   },
   {
    "duration": 9,
    "start_time": "2024-10-25T01:48:17.002Z"
   },
   {
    "duration": 3,
    "start_time": "2024-10-25T01:48:17.177Z"
   },
   {
    "duration": 4,
    "start_time": "2024-10-25T01:48:17.355Z"
   },
   {
    "duration": 6,
    "start_time": "2024-10-25T01:48:17.535Z"
   },
   {
    "duration": 6,
    "start_time": "2024-10-25T01:48:18.106Z"
   },
   {
    "duration": 2,
    "start_time": "2024-10-25T01:48:18.696Z"
   },
   {
    "duration": 3,
    "start_time": "2024-10-25T01:48:36.223Z"
   },
   {
    "duration": 120,
    "start_time": "2024-10-25T01:48:36.940Z"
   },
   {
    "duration": 32,
    "start_time": "2024-10-25T01:48:37.119Z"
   },
   {
    "duration": 739,
    "start_time": "2024-10-25T01:48:37.285Z"
   },
   {
    "duration": 2,
    "start_time": "2024-10-25T01:48:47.080Z"
   },
   {
    "duration": 101,
    "start_time": "2024-10-25T01:48:47.782Z"
   },
   {
    "duration": 32,
    "start_time": "2024-10-25T01:48:47.939Z"
   },
   {
    "duration": 713,
    "start_time": "2024-10-25T01:48:48.120Z"
   },
   {
    "duration": 71,
    "start_time": "2024-10-25T01:48:49.009Z"
   },
   {
    "duration": 5,
    "start_time": "2024-10-25T01:48:49.183Z"
   },
   {
    "duration": 75,
    "start_time": "2024-10-25T01:48:49.366Z"
   },
   {
    "duration": 69,
    "start_time": "2024-10-25T01:48:49.559Z"
   },
   {
    "duration": 46,
    "start_time": "2024-10-25T01:48:49.756Z"
   },
   {
    "duration": 15,
    "start_time": "2024-10-25T01:48:50.523Z"
   },
   {
    "duration": 7,
    "start_time": "2024-10-25T01:48:50.711Z"
   },
   {
    "duration": 25,
    "start_time": "2024-10-25T01:48:50.904Z"
   },
   {
    "duration": 11,
    "start_time": "2024-10-25T01:48:51.098Z"
   },
   {
    "duration": 3,
    "start_time": "2024-10-25T01:48:51.928Z"
   },
   {
    "duration": 7,
    "start_time": "2024-10-25T01:48:52.204Z"
   },
   {
    "duration": 3,
    "start_time": "2024-10-25T01:48:53.108Z"
   },
   {
    "duration": 6,
    "start_time": "2024-10-25T01:48:53.307Z"
   },
   {
    "duration": 810,
    "start_time": "2024-10-25T01:48:54.364Z"
   },
   {
    "duration": 727,
    "start_time": "2024-10-25T01:48:55.176Z"
   },
   {
    "duration": 7,
    "start_time": "2024-10-25T01:48:56.126Z"
   },
   {
    "duration": 4,
    "start_time": "2024-10-25T01:48:57.017Z"
   },
   {
    "duration": 5,
    "start_time": "2024-10-25T01:48:57.596Z"
   },
   {
    "duration": 7,
    "start_time": "2024-10-25T01:48:57.812Z"
   },
   {
    "duration": 5,
    "start_time": "2024-10-25T01:48:58.416Z"
   },
   {
    "duration": 33,
    "start_time": "2024-10-25T01:48:58.808Z"
   },
   {
    "duration": 8,
    "start_time": "2024-10-25T01:48:58.985Z"
   },
   {
    "duration": 64,
    "start_time": "2024-10-25T01:48:59.176Z"
   },
   {
    "duration": 28,
    "start_time": "2024-10-25T01:48:59.376Z"
   },
   {
    "duration": 4,
    "start_time": "2024-10-25T01:49:00.227Z"
   },
   {
    "duration": 5,
    "start_time": "2024-10-25T01:49:00.412Z"
   },
   {
    "duration": 192,
    "start_time": "2024-10-25T01:49:00.800Z"
   },
   {
    "duration": 133,
    "start_time": "2024-10-25T01:49:01.687Z"
   },
   {
    "duration": 153,
    "start_time": "2024-10-25T01:49:02.219Z"
   },
   {
    "duration": 11,
    "start_time": "2024-10-25T01:49:02.990Z"
   },
   {
    "duration": 3,
    "start_time": "2024-10-25T01:49:03.171Z"
   },
   {
    "duration": 188,
    "start_time": "2024-10-25T01:49:03.351Z"
   },
   {
    "duration": 162,
    "start_time": "2024-10-25T01:49:03.928Z"
   },
   {
    "duration": 98,
    "start_time": "2024-10-25T01:49:04.507Z"
   },
   {
    "duration": 565,
    "start_time": "2024-10-25T01:49:05.282Z"
   },
   {
    "duration": 107,
    "start_time": "2024-10-25T01:49:05.878Z"
   },
   {
    "duration": 45,
    "start_time": "2024-10-25T01:49:06.055Z"
   },
   {
    "duration": 2,
    "start_time": "2024-10-25T01:49:06.255Z"
   },
   {
    "duration": 4,
    "start_time": "2024-10-25T01:49:06.459Z"
   },
   {
    "duration": 5,
    "start_time": "2024-10-25T01:49:06.651Z"
   },
   {
    "duration": 6,
    "start_time": "2024-10-25T01:49:06.841Z"
   },
   {
    "duration": 2,
    "start_time": "2024-10-25T01:49:07.051Z"
   },
   {
    "duration": 88,
    "start_time": "2024-10-25T01:49:07.648Z"
   },
   {
    "duration": 99,
    "start_time": "2024-10-25T01:49:07.859Z"
   },
   {
    "duration": 9,
    "start_time": "2024-10-25T01:49:08.067Z"
   },
   {
    "duration": 5,
    "start_time": "2024-10-25T01:49:08.273Z"
   },
   {
    "duration": 12,
    "start_time": "2024-10-25T01:49:08.475Z"
   },
   {
    "duration": 6,
    "start_time": "2024-10-25T01:49:08.679Z"
   },
   {
    "duration": 2,
    "start_time": "2024-10-25T01:49:08.898Z"
   },
   {
    "duration": 531,
    "start_time": "2024-10-25T01:49:09.306Z"
   },
   {
    "duration": 98,
    "start_time": "2024-10-25T01:49:09.839Z"
   },
   {
    "duration": 179,
    "start_time": "2024-10-25T01:49:09.938Z"
   },
   {
    "duration": 10,
    "start_time": "2024-10-25T01:49:10.119Z"
   },
   {
    "duration": 5,
    "start_time": "2024-10-25T01:49:10.131Z"
   },
   {
    "duration": 5,
    "start_time": "2024-10-25T01:49:10.291Z"
   },
   {
    "duration": 2,
    "start_time": "2024-10-25T01:49:10.511Z"
   },
   {
    "duration": 23,
    "start_time": "2024-10-25T01:49:10.932Z"
   },
   {
    "duration": 12,
    "start_time": "2024-10-25T01:49:11.117Z"
   },
   {
    "duration": 3,
    "start_time": "2024-10-25T01:49:11.316Z"
   },
   {
    "duration": 4,
    "start_time": "2024-10-25T01:49:11.522Z"
   },
   {
    "duration": 5,
    "start_time": "2024-10-25T01:49:11.712Z"
   },
   {
    "duration": 6,
    "start_time": "2024-10-25T01:49:11.928Z"
   },
   {
    "duration": 2,
    "start_time": "2024-10-25T01:49:12.111Z"
   },
   {
    "duration": 325,
    "start_time": "2024-10-25T08:01:30.037Z"
   },
   {
    "duration": 161,
    "start_time": "2024-10-25T08:01:30.365Z"
   },
   {
    "duration": 57,
    "start_time": "2024-10-25T08:01:30.528Z"
   },
   {
    "duration": 785,
    "start_time": "2024-10-25T08:01:30.587Z"
   },
   {
    "duration": 113,
    "start_time": "2024-10-25T08:01:31.374Z"
   },
   {
    "duration": 6,
    "start_time": "2024-10-25T08:01:31.488Z"
   },
   {
    "duration": 116,
    "start_time": "2024-10-25T08:01:31.496Z"
   },
   {
    "duration": 99,
    "start_time": "2024-10-25T08:01:31.614Z"
   },
   {
    "duration": 57,
    "start_time": "2024-10-25T08:01:31.714Z"
   },
   {
    "duration": 16,
    "start_time": "2024-10-25T08:01:31.773Z"
   },
   {
    "duration": 5,
    "start_time": "2024-10-25T08:01:31.791Z"
   },
   {
    "duration": 43,
    "start_time": "2024-10-25T08:01:31.798Z"
   },
   {
    "duration": 9,
    "start_time": "2024-10-25T08:01:31.843Z"
   },
   {
    "duration": 2,
    "start_time": "2024-10-25T08:01:31.857Z"
   },
   {
    "duration": 8,
    "start_time": "2024-10-25T08:01:31.860Z"
   },
   {
    "duration": 2,
    "start_time": "2024-10-25T08:01:31.870Z"
   },
   {
    "duration": 6,
    "start_time": "2024-10-25T08:01:31.874Z"
   },
   {
    "duration": 928,
    "start_time": "2024-10-25T08:01:31.882Z"
   },
   {
    "duration": 809,
    "start_time": "2024-10-25T08:01:32.813Z"
   },
   {
    "duration": 12,
    "start_time": "2024-10-25T08:01:33.623Z"
   },
   {
    "duration": 4,
    "start_time": "2024-10-25T08:01:33.637Z"
   },
   {
    "duration": 8,
    "start_time": "2024-10-25T08:01:33.642Z"
   },
   {
    "duration": 6,
    "start_time": "2024-10-25T08:01:33.651Z"
   },
   {
    "duration": 6,
    "start_time": "2024-10-25T08:01:33.658Z"
   },
   {
    "duration": 66,
    "start_time": "2024-10-25T08:01:33.666Z"
   },
   {
    "duration": 8,
    "start_time": "2024-10-25T08:01:33.735Z"
   },
   {
    "duration": 61,
    "start_time": "2024-10-25T08:01:33.745Z"
   },
   {
    "duration": 46,
    "start_time": "2024-10-25T08:01:33.808Z"
   },
   {
    "duration": 4,
    "start_time": "2024-10-25T08:01:33.855Z"
   },
   {
    "duration": 5,
    "start_time": "2024-10-25T08:01:33.861Z"
   },
   {
    "duration": 373,
    "start_time": "2024-10-25T08:01:33.868Z"
   },
   {
    "duration": 145,
    "start_time": "2024-10-25T08:01:34.243Z"
   },
   {
    "duration": 150,
    "start_time": "2024-10-25T08:01:34.389Z"
   },
   {
    "duration": 13,
    "start_time": "2024-10-25T08:01:34.541Z"
   },
   {
    "duration": 3,
    "start_time": "2024-10-25T08:01:34.555Z"
   },
   {
    "duration": 209,
    "start_time": "2024-10-25T08:01:34.560Z"
   },
   {
    "duration": 163,
    "start_time": "2024-10-25T08:01:34.771Z"
   },
   {
    "duration": 85,
    "start_time": "2024-10-25T08:01:34.936Z"
   },
   {
    "duration": 501,
    "start_time": "2024-10-25T08:01:35.032Z"
   },
   {
    "duration": 116,
    "start_time": "2024-10-25T08:01:35.535Z"
   },
   {
    "duration": 41,
    "start_time": "2024-10-25T08:01:35.657Z"
   },
   {
    "duration": 2,
    "start_time": "2024-10-25T08:01:35.700Z"
   },
   {
    "duration": 4,
    "start_time": "2024-10-25T08:01:35.704Z"
   },
   {
    "duration": 25,
    "start_time": "2024-10-25T08:01:35.709Z"
   },
   {
    "duration": 7,
    "start_time": "2024-10-25T08:01:35.736Z"
   },
   {
    "duration": 3,
    "start_time": "2024-10-25T08:01:35.744Z"
   },
   {
    "duration": 99,
    "start_time": "2024-10-25T08:01:35.749Z"
   },
   {
    "duration": 114,
    "start_time": "2024-10-25T08:01:35.850Z"
   },
   {
    "duration": 9,
    "start_time": "2024-10-25T08:01:35.965Z"
   },
   {
    "duration": 4,
    "start_time": "2024-10-25T08:01:35.977Z"
   },
   {
    "duration": 13,
    "start_time": "2024-10-25T08:01:35.983Z"
   },
   {
    "duration": 6,
    "start_time": "2024-10-25T08:01:35.998Z"
   },
   {
    "duration": 26,
    "start_time": "2024-10-25T08:01:36.006Z"
   },
   {
    "duration": 634,
    "start_time": "2024-10-25T08:01:36.034Z"
   },
   {
    "duration": 101,
    "start_time": "2024-10-25T08:01:36.669Z"
   },
   {
    "duration": 182,
    "start_time": "2024-10-25T08:01:36.773Z"
   },
   {
    "duration": 10,
    "start_time": "2024-10-25T08:01:36.957Z"
   },
   {
    "duration": 4,
    "start_time": "2024-10-25T08:01:36.968Z"
   },
   {
    "duration": 5,
    "start_time": "2024-10-25T08:01:36.974Z"
   },
   {
    "duration": 2,
    "start_time": "2024-10-25T08:01:36.981Z"
   },
   {
    "duration": 48,
    "start_time": "2024-10-25T08:01:36.985Z"
   },
   {
    "duration": 9,
    "start_time": "2024-10-25T08:01:37.035Z"
   },
   {
    "duration": 3,
    "start_time": "2024-10-25T08:01:37.045Z"
   },
   {
    "duration": 4,
    "start_time": "2024-10-25T08:01:37.049Z"
   },
   {
    "duration": 5,
    "start_time": "2024-10-25T08:01:37.054Z"
   },
   {
    "duration": 6,
    "start_time": "2024-10-25T08:01:37.061Z"
   },
   {
    "duration": 2,
    "start_time": "2024-10-25T08:01:37.069Z"
   },
   {
    "duration": 13,
    "start_time": "2024-10-25T14:59:01.353Z"
   },
   {
    "duration": 332,
    "start_time": "2024-10-25T15:00:36.868Z"
   },
   {
    "duration": 50,
    "start_time": "2024-10-25T15:10:19.147Z"
   },
   {
    "duration": 897,
    "start_time": "2024-10-25T15:10:31.646Z"
   },
   {
    "duration": 7,
    "start_time": "2024-10-25T15:10:32.546Z"
   },
   {
    "duration": 7,
    "start_time": "2024-10-25T15:10:32.769Z"
   },
   {
    "duration": 178,
    "start_time": "2024-10-25T15:10:34.600Z"
   },
   {
    "duration": 14,
    "start_time": "2024-10-25T15:10:34.805Z"
   },
   {
    "duration": 12,
    "start_time": "2024-10-25T15:10:35.087Z"
   },
   {
    "duration": 17,
    "start_time": "2024-10-25T15:10:35.313Z"
   },
   {
    "duration": 13,
    "start_time": "2024-10-25T15:10:35.557Z"
   },
   {
    "duration": 14,
    "start_time": "2024-10-25T15:10:36.548Z"
   },
   {
    "duration": 8,
    "start_time": "2024-10-25T15:10:36.789Z"
   },
   {
    "duration": 28,
    "start_time": "2024-10-25T15:10:37.013Z"
   },
   {
    "duration": 10,
    "start_time": "2024-10-25T15:10:37.258Z"
   },
   {
    "duration": 879,
    "start_time": "2024-10-25T15:10:39.012Z"
   },
   {
    "duration": 770,
    "start_time": "2024-10-25T15:10:39.893Z"
   },
   {
    "duration": 11,
    "start_time": "2024-10-25T15:10:40.666Z"
   },
   {
    "duration": 3,
    "start_time": "2024-10-25T15:10:40.679Z"
   },
   {
    "duration": 21,
    "start_time": "2024-10-25T15:10:40.684Z"
   },
   {
    "duration": 6,
    "start_time": "2024-10-25T15:10:40.707Z"
   },
   {
    "duration": 14,
    "start_time": "2024-10-25T15:10:42.688Z"
   },
   {
    "duration": 31,
    "start_time": "2024-10-25T15:10:43.751Z"
   },
   {
    "duration": 2,
    "start_time": "2024-10-25T15:11:29.740Z"
   },
   {
    "duration": 176,
    "start_time": "2024-10-25T15:11:29.745Z"
   },
   {
    "duration": 31,
    "start_time": "2024-10-25T15:11:29.923Z"
   },
   {
    "duration": 724,
    "start_time": "2024-10-25T15:11:29.956Z"
   },
   {
    "duration": 5,
    "start_time": "2024-10-25T15:11:30.683Z"
   },
   {
    "duration": 15,
    "start_time": "2024-10-25T15:11:30.690Z"
   },
   {
    "duration": 102,
    "start_time": "2024-10-25T15:11:30.707Z"
   },
   {
    "duration": 5,
    "start_time": "2024-10-25T15:11:30.813Z"
   },
   {
    "duration": 107,
    "start_time": "2024-10-25T15:11:30.821Z"
   },
   {
    "duration": 84,
    "start_time": "2024-10-25T15:11:30.930Z"
   },
   {
    "duration": 38,
    "start_time": "2024-10-25T15:11:31.016Z"
   },
   {
    "duration": 16,
    "start_time": "2024-10-25T15:11:31.056Z"
   },
   {
    "duration": 5,
    "start_time": "2024-10-25T15:11:31.076Z"
   },
   {
    "duration": 23,
    "start_time": "2024-10-25T15:11:31.105Z"
   },
   {
    "duration": 10,
    "start_time": "2024-10-25T15:11:31.130Z"
   },
   {
    "duration": 884,
    "start_time": "2024-10-25T15:11:31.142Z"
   },
   {
    "duration": 783,
    "start_time": "2024-10-25T15:11:32.028Z"
   },
   {
    "duration": 8,
    "start_time": "2024-10-25T15:11:32.813Z"
   },
   {
    "duration": 3,
    "start_time": "2024-10-25T15:11:32.823Z"
   },
   {
    "duration": 6,
    "start_time": "2024-10-25T15:11:32.828Z"
   },
   {
    "duration": 4,
    "start_time": "2024-10-25T15:11:32.835Z"
   },
   {
    "duration": 5,
    "start_time": "2024-10-25T15:11:32.841Z"
   },
   {
    "duration": 62,
    "start_time": "2024-10-25T15:11:32.848Z"
   },
   {
    "duration": 10,
    "start_time": "2024-10-25T15:11:32.912Z"
   },
   {
    "duration": 61,
    "start_time": "2024-10-25T15:11:32.924Z"
   },
   {
    "duration": 43,
    "start_time": "2024-10-25T15:11:32.988Z"
   },
   {
    "duration": 4,
    "start_time": "2024-10-25T15:11:33.033Z"
   },
   {
    "duration": 5,
    "start_time": "2024-10-25T15:11:33.039Z"
   },
   {
    "duration": 2171,
    "start_time": "2024-10-25T15:11:33.046Z"
   },
   {
    "duration": 138,
    "start_time": "2024-10-25T15:11:35.219Z"
   },
   {
    "duration": 177,
    "start_time": "2024-10-25T15:11:35.358Z"
   },
   {
    "duration": 12,
    "start_time": "2024-10-25T15:11:35.537Z"
   },
   {
    "duration": 3,
    "start_time": "2024-10-25T15:11:35.550Z"
   },
   {
    "duration": 218,
    "start_time": "2024-10-25T15:11:35.555Z"
   },
   {
    "duration": 166,
    "start_time": "2024-10-25T15:11:35.775Z"
   },
   {
    "duration": 96,
    "start_time": "2024-10-25T15:11:35.943Z"
   },
   {
    "duration": 511,
    "start_time": "2024-10-25T15:11:36.041Z"
   },
   {
    "duration": 111,
    "start_time": "2024-10-25T15:11:36.554Z"
   },
   {
    "duration": 62,
    "start_time": "2024-10-25T15:11:36.667Z"
   },
   {
    "duration": 3,
    "start_time": "2024-10-25T15:11:36.730Z"
   },
   {
    "duration": 3,
    "start_time": "2024-10-25T15:11:36.738Z"
   },
   {
    "duration": 5,
    "start_time": "2024-10-25T15:11:36.742Z"
   },
   {
    "duration": 7,
    "start_time": "2024-10-25T15:11:36.748Z"
   },
   {
    "duration": 2,
    "start_time": "2024-10-25T15:11:36.756Z"
   },
   {
    "duration": 116,
    "start_time": "2024-10-25T15:11:36.760Z"
   },
   {
    "duration": 104,
    "start_time": "2024-10-25T15:11:36.878Z"
   },
   {
    "duration": 9,
    "start_time": "2024-10-25T15:11:36.984Z"
   },
   {
    "duration": 12,
    "start_time": "2024-10-25T15:11:36.995Z"
   },
   {
    "duration": 16,
    "start_time": "2024-10-25T15:11:37.009Z"
   },
   {
    "duration": 7,
    "start_time": "2024-10-25T15:11:37.026Z"
   },
   {
    "duration": 2,
    "start_time": "2024-10-25T15:11:37.035Z"
   },
   {
    "duration": 606,
    "start_time": "2024-10-25T15:11:37.039Z"
   },
   {
    "duration": 104,
    "start_time": "2024-10-25T15:11:37.649Z"
   },
   {
    "duration": 174,
    "start_time": "2024-10-25T15:11:37.755Z"
   },
   {
    "duration": 9,
    "start_time": "2024-10-25T15:11:37.931Z"
   },
   {
    "duration": 4,
    "start_time": "2024-10-25T15:11:37.942Z"
   },
   {
    "duration": 5,
    "start_time": "2024-10-25T15:11:37.947Z"
   },
   {
    "duration": 3,
    "start_time": "2024-10-25T15:11:37.954Z"
   },
   {
    "duration": 52,
    "start_time": "2024-10-25T15:11:37.958Z"
   },
   {
    "duration": 12,
    "start_time": "2024-10-25T15:11:38.011Z"
   },
   {
    "duration": 2,
    "start_time": "2024-10-25T15:11:38.025Z"
   },
   {
    "duration": 4,
    "start_time": "2024-10-25T15:11:38.029Z"
   },
   {
    "duration": 5,
    "start_time": "2024-10-25T15:11:38.035Z"
   },
   {
    "duration": 5,
    "start_time": "2024-10-25T15:11:38.041Z"
   },
   {
    "duration": 53,
    "start_time": "2024-10-25T15:16:30.288Z"
   },
   {
    "duration": 4,
    "start_time": "2024-10-25T15:16:42.163Z"
   },
   {
    "duration": 4,
    "start_time": "2024-10-25T15:16:42.630Z"
   },
   {
    "duration": 191,
    "start_time": "2024-10-25T15:16:51.731Z"
   },
   {
    "duration": 535,
    "start_time": "2024-10-25T15:36:15.019Z"
   },
   {
    "duration": 3,
    "start_time": "2024-10-25T15:37:22.779Z"
   },
   {
    "duration": 131,
    "start_time": "2024-10-25T15:37:22.785Z"
   },
   {
    "duration": 30,
    "start_time": "2024-10-25T15:37:22.918Z"
   },
   {
    "duration": 701,
    "start_time": "2024-10-25T15:37:22.950Z"
   },
   {
    "duration": 6,
    "start_time": "2024-10-25T15:37:23.654Z"
   },
   {
    "duration": 6,
    "start_time": "2024-10-25T15:37:23.662Z"
   },
   {
    "duration": 81,
    "start_time": "2024-10-25T15:37:23.670Z"
   },
   {
    "duration": 4,
    "start_time": "2024-10-25T15:37:23.753Z"
   },
   {
    "duration": 88,
    "start_time": "2024-10-25T15:37:23.759Z"
   },
   {
    "duration": 81,
    "start_time": "2024-10-25T15:37:23.851Z"
   },
   {
    "duration": 36,
    "start_time": "2024-10-25T15:37:23.934Z"
   },
   {
    "duration": 12,
    "start_time": "2024-10-25T15:37:23.972Z"
   },
   {
    "duration": 21,
    "start_time": "2024-10-25T15:37:23.986Z"
   },
   {
    "duration": 24,
    "start_time": "2024-10-25T15:37:24.012Z"
   },
   {
    "duration": 10,
    "start_time": "2024-10-25T15:37:24.038Z"
   },
   {
    "duration": 838,
    "start_time": "2024-10-25T15:37:24.049Z"
   },
   {
    "duration": 756,
    "start_time": "2024-10-25T15:37:24.889Z"
   },
   {
    "duration": 7,
    "start_time": "2024-10-25T15:37:25.647Z"
   },
   {
    "duration": 4,
    "start_time": "2024-10-25T15:37:25.656Z"
   },
   {
    "duration": 6,
    "start_time": "2024-10-25T15:37:25.661Z"
   },
   {
    "duration": 5,
    "start_time": "2024-10-25T15:37:25.668Z"
   },
   {
    "duration": 5,
    "start_time": "2024-10-25T15:37:25.675Z"
   },
   {
    "duration": 30,
    "start_time": "2024-10-25T15:37:25.706Z"
   },
   {
    "duration": 6,
    "start_time": "2024-10-25T15:37:25.737Z"
   },
   {
    "duration": 82,
    "start_time": "2024-10-25T15:37:25.745Z"
   },
   {
    "duration": 36,
    "start_time": "2024-10-25T15:37:25.828Z"
   },
   {
    "duration": 4,
    "start_time": "2024-10-25T15:37:25.866Z"
   },
   {
    "duration": 4,
    "start_time": "2024-10-25T15:37:25.872Z"
   },
   {
    "duration": 215,
    "start_time": "2024-10-25T15:37:25.879Z"
   },
   {
    "duration": 139,
    "start_time": "2024-10-25T15:37:26.096Z"
   },
   {
    "duration": 147,
    "start_time": "2024-10-25T15:37:26.236Z"
   },
   {
    "duration": 9,
    "start_time": "2024-10-25T15:37:26.385Z"
   },
   {
    "duration": 3,
    "start_time": "2024-10-25T15:37:26.405Z"
   },
   {
    "duration": 186,
    "start_time": "2024-10-25T15:37:26.410Z"
   },
   {
    "duration": 160,
    "start_time": "2024-10-25T15:37:26.598Z"
   },
   {
    "duration": 95,
    "start_time": "2024-10-25T15:37:26.759Z"
   },
   {
    "duration": 470,
    "start_time": "2024-10-25T15:37:26.856Z"
   },
   {
    "duration": 65,
    "start_time": "2024-10-25T15:37:27.328Z"
   },
   {
    "duration": 60,
    "start_time": "2024-10-25T15:37:27.395Z"
   },
   {
    "duration": 2,
    "start_time": "2024-10-25T15:37:27.457Z"
   },
   {
    "duration": 3,
    "start_time": "2024-10-25T15:37:27.466Z"
   },
   {
    "duration": 5,
    "start_time": "2024-10-25T15:37:27.471Z"
   },
   {
    "duration": 29,
    "start_time": "2024-10-25T15:37:27.479Z"
   },
   {
    "duration": 3,
    "start_time": "2024-10-25T15:37:27.510Z"
   },
   {
    "duration": 96,
    "start_time": "2024-10-25T15:37:27.514Z"
   },
   {
    "duration": 113,
    "start_time": "2024-10-25T15:37:27.612Z"
   },
   {
    "duration": 8,
    "start_time": "2024-10-25T15:37:27.727Z"
   },
   {
    "duration": 5,
    "start_time": "2024-10-25T15:37:27.736Z"
   },
   {
    "duration": 11,
    "start_time": "2024-10-25T15:37:27.742Z"
   },
   {
    "duration": 6,
    "start_time": "2024-10-25T15:37:27.754Z"
   },
   {
    "duration": 2,
    "start_time": "2024-10-25T15:37:27.762Z"
   },
   {
    "duration": 706,
    "start_time": "2024-10-25T15:37:27.765Z"
   },
   {
    "duration": 96,
    "start_time": "2024-10-25T15:37:28.473Z"
   },
   {
    "duration": 181,
    "start_time": "2024-10-25T15:37:28.571Z"
   },
   {
    "duration": 9,
    "start_time": "2024-10-25T15:37:28.754Z"
   },
   {
    "duration": 3,
    "start_time": "2024-10-25T15:37:28.765Z"
   },
   {
    "duration": 5,
    "start_time": "2024-10-25T15:37:28.770Z"
   },
   {
    "duration": 3,
    "start_time": "2024-10-25T15:37:28.776Z"
   },
   {
    "duration": 26,
    "start_time": "2024-10-25T15:37:28.805Z"
   },
   {
    "duration": 8,
    "start_time": "2024-10-25T15:37:28.832Z"
   },
   {
    "duration": 2,
    "start_time": "2024-10-25T15:37:28.842Z"
   },
   {
    "duration": 5,
    "start_time": "2024-10-25T15:37:28.845Z"
   },
   {
    "duration": 5,
    "start_time": "2024-10-25T15:37:28.851Z"
   },
   {
    "duration": 6,
    "start_time": "2024-10-25T15:37:28.858Z"
   }
  ],
  "kernelspec": {
   "display_name": "Python 3 (ipykernel)",
   "language": "python",
   "name": "python3"
  },
  "language_info": {
   "codemirror_mode": {
    "name": "ipython",
    "version": 3
   },
   "file_extension": ".py",
   "mimetype": "text/x-python",
   "name": "python",
   "nbconvert_exporter": "python",
   "pygments_lexer": "ipython3",
   "version": "3.12.2"
  },
  "toc": {
   "base_numbering": 1,
   "nav_menu": {},
   "number_sections": true,
   "sideBar": true,
   "skip_h1_title": true,
   "title_cell": "Table of Contents",
   "title_sidebar": "Contents",
   "toc_cell": false,
   "toc_position": {},
   "toc_section_display": true,
   "toc_window_display": true
  },
  "vscode": {
   "interpreter": {
    "hash": "01a7be9ec63e704a62cefc5fe7a4756944464ee731be31632bdf42a4cb4688cf"
   }
  }
 },
 "nbformat": 4,
 "nbformat_minor": 5
}
